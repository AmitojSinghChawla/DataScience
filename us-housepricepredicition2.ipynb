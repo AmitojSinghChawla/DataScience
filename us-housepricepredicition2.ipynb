{
 "cells": [
  {
   "cell_type": "code",
   "execution_count": 1,
   "id": "1bb314cc",
   "metadata": {
    "_cell_guid": "fb69ed2a-8264-491f-bb63-054903033c44",
    "_uuid": "cc7c9c43-6423-4dd0-baf1-0143ab1907c5",
    "collapsed": false,
    "execution": {
     "iopub.execute_input": "2025-04-11T13:32:01.241672Z",
     "iopub.status.busy": "2025-04-11T13:32:01.241330Z",
     "iopub.status.idle": "2025-04-11T13:32:03.456901Z",
     "shell.execute_reply": "2025-04-11T13:32:03.456175Z"
    },
    "jupyter": {
     "outputs_hidden": false
    },
    "papermill": {
     "duration": 2.230661,
     "end_time": "2025-04-11T13:32:03.458383",
     "exception": false,
     "start_time": "2025-04-11T13:32:01.227722",
     "status": "completed"
    },
    "tags": []
   },
   "outputs": [],
   "source": [
    "import numpy as np\n",
    "import pandas as pd \n",
    "import seaborn as sns\n",
    "import matplotlib.pyplot as plt"
   ]
  },
  {
   "cell_type": "code",
   "execution_count": 2,
   "id": "296d8048",
   "metadata": {
    "_cell_guid": "32a7c2c8-af43-4ab2-a295-dbc6023e1454",
    "_uuid": "39992ceb-6973-4f62-8bc5-121bbf1b4522",
    "collapsed": false,
    "execution": {
     "iopub.execute_input": "2025-04-11T13:32:03.483417Z",
     "iopub.status.busy": "2025-04-11T13:32:03.483007Z",
     "iopub.status.idle": "2025-04-11T13:32:08.700971Z",
     "shell.execute_reply": "2025-04-11T13:32:08.700106Z"
    },
    "jupyter": {
     "outputs_hidden": false
    },
    "papermill": {
     "duration": 5.231778,
     "end_time": "2025-04-11T13:32:08.702429",
     "exception": false,
     "start_time": "2025-04-11T13:32:03.470651",
     "status": "completed"
    },
    "tags": []
   },
   "outputs": [
    {
     "data": {
      "text/html": [
       "<div>\n",
       "<style scoped>\n",
       "    .dataframe tbody tr th:only-of-type {\n",
       "        vertical-align: middle;\n",
       "    }\n",
       "\n",
       "    .dataframe tbody tr th {\n",
       "        vertical-align: top;\n",
       "    }\n",
       "\n",
       "    .dataframe thead th {\n",
       "        text-align: right;\n",
       "    }\n",
       "</style>\n",
       "<table border=\"1\" class=\"dataframe\">\n",
       "  <thead>\n",
       "    <tr style=\"text-align: right;\">\n",
       "      <th></th>\n",
       "      <th>brokered_by</th>\n",
       "      <th>status</th>\n",
       "      <th>price</th>\n",
       "      <th>bed</th>\n",
       "      <th>bath</th>\n",
       "      <th>acre_lot</th>\n",
       "      <th>street</th>\n",
       "      <th>city</th>\n",
       "      <th>state</th>\n",
       "      <th>zip_code</th>\n",
       "      <th>house_size</th>\n",
       "      <th>prev_sold_date</th>\n",
       "    </tr>\n",
       "  </thead>\n",
       "  <tbody>\n",
       "    <tr>\n",
       "      <th>0</th>\n",
       "      <td>103378.0</td>\n",
       "      <td>for_sale</td>\n",
       "      <td>105000.0</td>\n",
       "      <td>3.0</td>\n",
       "      <td>2.0</td>\n",
       "      <td>0.12</td>\n",
       "      <td>1962661.0</td>\n",
       "      <td>Adjuntas</td>\n",
       "      <td>Puerto Rico</td>\n",
       "      <td>601.0</td>\n",
       "      <td>920.0</td>\n",
       "      <td>NaN</td>\n",
       "    </tr>\n",
       "    <tr>\n",
       "      <th>1</th>\n",
       "      <td>52707.0</td>\n",
       "      <td>for_sale</td>\n",
       "      <td>80000.0</td>\n",
       "      <td>4.0</td>\n",
       "      <td>2.0</td>\n",
       "      <td>0.08</td>\n",
       "      <td>1902874.0</td>\n",
       "      <td>Adjuntas</td>\n",
       "      <td>Puerto Rico</td>\n",
       "      <td>601.0</td>\n",
       "      <td>1527.0</td>\n",
       "      <td>NaN</td>\n",
       "    </tr>\n",
       "    <tr>\n",
       "      <th>2</th>\n",
       "      <td>103379.0</td>\n",
       "      <td>for_sale</td>\n",
       "      <td>67000.0</td>\n",
       "      <td>2.0</td>\n",
       "      <td>1.0</td>\n",
       "      <td>0.15</td>\n",
       "      <td>1404990.0</td>\n",
       "      <td>Juana Diaz</td>\n",
       "      <td>Puerto Rico</td>\n",
       "      <td>795.0</td>\n",
       "      <td>748.0</td>\n",
       "      <td>NaN</td>\n",
       "    </tr>\n",
       "    <tr>\n",
       "      <th>3</th>\n",
       "      <td>31239.0</td>\n",
       "      <td>for_sale</td>\n",
       "      <td>145000.0</td>\n",
       "      <td>4.0</td>\n",
       "      <td>2.0</td>\n",
       "      <td>0.10</td>\n",
       "      <td>1947675.0</td>\n",
       "      <td>Ponce</td>\n",
       "      <td>Puerto Rico</td>\n",
       "      <td>731.0</td>\n",
       "      <td>1800.0</td>\n",
       "      <td>NaN</td>\n",
       "    </tr>\n",
       "    <tr>\n",
       "      <th>4</th>\n",
       "      <td>34632.0</td>\n",
       "      <td>for_sale</td>\n",
       "      <td>65000.0</td>\n",
       "      <td>6.0</td>\n",
       "      <td>2.0</td>\n",
       "      <td>0.05</td>\n",
       "      <td>331151.0</td>\n",
       "      <td>Mayaguez</td>\n",
       "      <td>Puerto Rico</td>\n",
       "      <td>680.0</td>\n",
       "      <td>NaN</td>\n",
       "      <td>NaN</td>\n",
       "    </tr>\n",
       "  </tbody>\n",
       "</table>\n",
       "</div>"
      ],
      "text/plain": [
       "   brokered_by    status     price  bed  bath  acre_lot     street  \\\n",
       "0     103378.0  for_sale  105000.0  3.0   2.0      0.12  1962661.0   \n",
       "1      52707.0  for_sale   80000.0  4.0   2.0      0.08  1902874.0   \n",
       "2     103379.0  for_sale   67000.0  2.0   1.0      0.15  1404990.0   \n",
       "3      31239.0  for_sale  145000.0  4.0   2.0      0.10  1947675.0   \n",
       "4      34632.0  for_sale   65000.0  6.0   2.0      0.05   331151.0   \n",
       "\n",
       "         city        state  zip_code  house_size prev_sold_date  \n",
       "0    Adjuntas  Puerto Rico     601.0       920.0            NaN  \n",
       "1    Adjuntas  Puerto Rico     601.0      1527.0            NaN  \n",
       "2  Juana Diaz  Puerto Rico     795.0       748.0            NaN  \n",
       "3       Ponce  Puerto Rico     731.0      1800.0            NaN  \n",
       "4    Mayaguez  Puerto Rico     680.0         NaN            NaN  "
      ]
     },
     "execution_count": 2,
     "metadata": {},
     "output_type": "execute_result"
    }
   ],
   "source": [
    "data=pd.read_csv('/kaggle/input/usa-real-estate-dataset/realtor-data.zip.csv')\n",
    "data=pd.DataFrame(data)\n",
    "data.head()"
   ]
  },
  {
   "cell_type": "code",
   "execution_count": 3,
   "id": "5e4dfdeb",
   "metadata": {
    "_cell_guid": "6c16f62a-0e7d-4542-b7c3-98c7dd6588f9",
    "_uuid": "4545c94d-3fd3-4643-b4f8-6b8d5ef66f6c",
    "collapsed": false,
    "execution": {
     "iopub.execute_input": "2025-04-11T13:32:08.728383Z",
     "iopub.status.busy": "2025-04-11T13:32:08.728042Z",
     "iopub.status.idle": "2025-04-11T13:32:08.732869Z",
     "shell.execute_reply": "2025-04-11T13:32:08.732217Z"
    },
    "jupyter": {
     "outputs_hidden": false
    },
    "papermill": {
     "duration": 0.018714,
     "end_time": "2025-04-11T13:32:08.734111",
     "exception": false,
     "start_time": "2025-04-11T13:32:08.715397",
     "status": "completed"
    },
    "tags": []
   },
   "outputs": [
    {
     "data": {
      "text/plain": [
       "(2226382, 12)"
      ]
     },
     "execution_count": 3,
     "metadata": {},
     "output_type": "execute_result"
    }
   ],
   "source": [
    "data.shape"
   ]
  },
  {
   "cell_type": "code",
   "execution_count": 4,
   "id": "d7da25b0",
   "metadata": {
    "_cell_guid": "f8a85a22-d493-45ca-be95-d9864bc1d1c9",
    "_uuid": "7a85f8a2-2e0f-4d53-afeb-e29549a20cea",
    "collapsed": false,
    "execution": {
     "iopub.execute_input": "2025-04-11T13:32:08.758935Z",
     "iopub.status.busy": "2025-04-11T13:32:08.758600Z",
     "iopub.status.idle": "2025-04-11T13:32:08.947701Z",
     "shell.execute_reply": "2025-04-11T13:32:08.947004Z"
    },
    "jupyter": {
     "outputs_hidden": false
    },
    "papermill": {
     "duration": 0.202966,
     "end_time": "2025-04-11T13:32:08.949213",
     "exception": false,
     "start_time": "2025-04-11T13:32:08.746247",
     "status": "completed"
    },
    "tags": []
   },
   "outputs": [],
   "source": [
    "data=data.dropna(subset=['price'])"
   ]
  },
  {
   "cell_type": "code",
   "execution_count": 5,
   "id": "ecb21c89",
   "metadata": {
    "_cell_guid": "2377a681-adab-4b73-bcc8-195f0b1560ba",
    "_uuid": "c5abc4de-dca5-4e42-b236-955805c0ea84",
    "collapsed": false,
    "execution": {
     "iopub.execute_input": "2025-04-11T13:32:08.973127Z",
     "iopub.status.busy": "2025-04-11T13:32:08.972857Z",
     "iopub.status.idle": "2025-04-11T13:32:08.977210Z",
     "shell.execute_reply": "2025-04-11T13:32:08.976587Z"
    },
    "jupyter": {
     "outputs_hidden": false
    },
    "papermill": {
     "duration": 0.017534,
     "end_time": "2025-04-11T13:32:08.978483",
     "exception": false,
     "start_time": "2025-04-11T13:32:08.960949",
     "status": "completed"
    },
    "tags": []
   },
   "outputs": [
    {
     "data": {
      "text/plain": [
       "(2224841, 12)"
      ]
     },
     "execution_count": 5,
     "metadata": {},
     "output_type": "execute_result"
    }
   ],
   "source": [
    "data.shape"
   ]
  },
  {
   "cell_type": "code",
   "execution_count": 6,
   "id": "b3d90564",
   "metadata": {
    "_cell_guid": "e0c569de-17e3-48f2-b42b-6ad2a3eab7e3",
    "_uuid": "96e13a7f-2144-4874-ba49-8aee8f40dea6",
    "collapsed": false,
    "execution": {
     "iopub.execute_input": "2025-04-11T13:32:09.002052Z",
     "iopub.status.busy": "2025-04-11T13:32:09.001796Z",
     "iopub.status.idle": "2025-04-11T13:32:10.510767Z",
     "shell.execute_reply": "2025-04-11T13:32:10.509777Z"
    },
    "jupyter": {
     "outputs_hidden": false
    },
    "papermill": {
     "duration": 1.522182,
     "end_time": "2025-04-11T13:32:10.512129",
     "exception": false,
     "start_time": "2025-04-11T13:32:08.989947",
     "status": "completed"
    },
    "tags": []
   },
   "outputs": [
    {
     "name": "stdout",
     "output_type": "stream",
     "text": [
      "city\n",
      "139th Ave Unit Peck    True\n",
      "15th Ave Milton        True\n",
      "177th Ave Wabasha      True\n",
      "178th Ave Wabasha      True\n",
      "1st Saint              True\n",
      "                       ... \n",
      "Zena                   True\n",
      "Zinc                   True\n",
      "Zion Mountain          True\n",
      "Zortman                True\n",
      "Zwingle                True\n",
      "Name: bed, Length: 2395, dtype: bool\n"
     ]
    }
   ],
   "source": [
    "missing_groups = data.groupby('city')['bed'].apply(lambda x: x.isna().all())\n",
    "print(missing_groups[missing_groups])"
   ]
  },
  {
   "cell_type": "code",
   "execution_count": 7,
   "id": "277ddbc6",
   "metadata": {
    "execution": {
     "iopub.execute_input": "2025-04-11T13:32:10.536221Z",
     "iopub.status.busy": "2025-04-11T13:32:10.535996Z",
     "iopub.status.idle": "2025-04-11T13:32:10.539073Z",
     "shell.execute_reply": "2025-04-11T13:32:10.538494Z"
    },
    "papermill": {
     "duration": 0.01625,
     "end_time": "2025-04-11T13:32:10.540158",
     "exception": false,
     "start_time": "2025-04-11T13:32:10.523908",
     "status": "completed"
    },
    "tags": []
   },
   "outputs": [],
   "source": [
    "import warnings\n",
    "warnings.filterwarnings(\"ignore\", message=\"Mean of empty slice\")\n"
   ]
  },
  {
   "cell_type": "code",
   "execution_count": 8,
   "id": "fb726845",
   "metadata": {
    "_cell_guid": "c83b9a63-1655-4b9b-ab2a-466ed5d135e0",
    "_uuid": "afd25e30-de68-49dd-8abd-bc11690a8dbf",
    "collapsed": false,
    "execution": {
     "iopub.execute_input": "2025-04-11T13:32:10.563815Z",
     "iopub.status.busy": "2025-04-11T13:32:10.563613Z",
     "iopub.status.idle": "2025-04-11T13:32:36.858996Z",
     "shell.execute_reply": "2025-04-11T13:32:36.858236Z"
    },
    "jupyter": {
     "outputs_hidden": false
    },
    "papermill": {
     "duration": 26.308774,
     "end_time": "2025-04-11T13:32:36.860638",
     "exception": false,
     "start_time": "2025-04-11T13:32:10.551864",
     "status": "completed"
    },
    "tags": []
   },
   "outputs": [],
   "source": [
    "\n",
    "import numpy as np\n",
    "\n",
    "# List of numerical columns to handle missing values\n",
    "num_features = ['bed', 'bath', 'acre_lot', 'house_size']\n",
    "\n",
    "# Iterate over each numerical column\n",
    "for col in num_features:\n",
    "    # Calculate the overall median of the column (ignoring NaNs)\n",
    "    overall_median = data[col].median()\n",
    "\n",
    "    # Define a function to fill missing values within each group\n",
    "    def fill_missing(x):\n",
    "        # Median for the current group\n",
    "        group_median = x.median()\n",
    "        # Check if the group median is NaN (group is empty or all NaN)\n",
    "        if np.isnan(group_median):\n",
    "            return x.fillna(overall_median)  # Use overall median as fallback\n",
    "        return x.fillna(group_median)  # Otherwise, use group median\n",
    "\n",
    "    # Apply the function to fill missing values\n",
    "    data[col] = data.groupby('city')[col].transform(fill_missing)\n",
    "\n"
   ]
  },
  {
   "cell_type": "code",
   "execution_count": 9,
   "id": "a2f27404",
   "metadata": {
    "_cell_guid": "3c64dd90-61c9-411a-8a3f-0ba19d0fcf6b",
    "_uuid": "1da4c9c1-343b-43c9-9383-4d62104ed5a8",
    "collapsed": false,
    "execution": {
     "iopub.execute_input": "2025-04-11T13:32:36.886578Z",
     "iopub.status.busy": "2025-04-11T13:32:36.886226Z",
     "iopub.status.idle": "2025-04-11T13:32:46.298957Z",
     "shell.execute_reply": "2025-04-11T13:32:46.297976Z"
    },
    "jupyter": {
     "outputs_hidden": false
    },
    "papermill": {
     "duration": 9.427043,
     "end_time": "2025-04-11T13:32:46.300565",
     "exception": false,
     "start_time": "2025-04-11T13:32:36.873522",
     "status": "completed"
    },
    "tags": []
   },
   "outputs": [],
   "source": [
    "from sklearn.impute import SimpleImputer\n",
    "from sklearn.preprocessing import LabelEncoder\n",
    "\n",
    "# Encode 'street' as integers\n",
    "encoder = LabelEncoder()\n",
    "data['street_encoded'] = encoder.fit_transform(data['street'].astype(str))\n",
    "\n",
    "# Use city or other features to predict 'street_encoded'\n",
    "imputer = SimpleImputer(strategy='most_frequent')\n",
    "data['street_encoded'] = imputer.fit_transform(data[['street_encoded']])\n",
    "\n",
    "# Decode back to original 'street' labels\n",
    "data['street'] = encoder.inverse_transform(data['street_encoded'])\n",
    "data.drop(columns=['street_encoded'], inplace=True)"
   ]
  },
  {
   "cell_type": "markdown",
   "id": "56fd43df",
   "metadata": {
    "_cell_guid": "2294ccc9-3bee-45b1-a11e-e9d8ffbb8286",
    "_uuid": "945b240b-4a68-4d31-a63b-b52cfa707f55",
    "collapsed": false,
    "jupyter": {
     "outputs_hidden": false
    },
    "papermill": {
     "duration": 0.01128,
     "end_time": "2025-04-11T13:32:46.323788",
     "exception": false,
     "start_time": "2025-04-11T13:32:46.312508",
     "status": "completed"
    },
    "tags": []
   },
   "source": [
    "Let's break down the code step by step, along with explanations of the concepts used:\n",
    "\n",
    "---\n",
    "\n",
    "### **1. Importing Modules**\n",
    "```python\n",
    "from sklearn.impute import SimpleImputer\n",
    "from sklearn.preprocessing import LabelEncoder\n",
    "```\n",
    "- **`SimpleImputer`**:\n",
    "  - A class from `sklearn` used to fill (or impute) missing values in a dataset.\n",
    "  - It offers strategies like replacing missing values with the mean, median, or most frequent value.\n",
    "\n",
    "- **`LabelEncoder`**:\n",
    "  - Converts categorical labels (strings) into numerical values.\n",
    "  - This is useful for machine learning algorithms that can only work with numerical data.\n",
    "\n",
    "---\n",
    "\n",
    "### **2. Encoding `street` as Integers**\n",
    "```python\n",
    "encoder = LabelEncoder()\n",
    "data['street_encoded'] = encoder.fit_transform(data['street'].astype(str))\n",
    "```\n",
    "- **What it does**:\n",
    "  - Converts the `street` column (categorical) into numeric values by assigning a unique integer to each unique label (e.g., `['Main St', 'Elm St', 'Park Ave'] → [0, 1, 2]`).\n",
    "  - **`astype(str)`** ensures that even `NaN` values are treated as strings, avoiding errors during encoding.\n",
    "\n",
    "- **Key Methods**:\n",
    "  - **`fit_transform`**:\n",
    "    - Learns the mapping of unique labels to integers (via `fit`) and applies the transformation (via `transform`) in one step.\n",
    "    - Example mapping:\n",
    "      ```\n",
    "      'Main St' → 0\n",
    "      'Elm St' → 1\n",
    "      'Park Ave' → 2\n",
    "      NaN → 3\n",
    "      ```\n",
    "\n",
    "---\n",
    "\n",
    "### **3. Handling Missing Values with `SimpleImputer`**\n",
    "```python\n",
    "imputer = SimpleImputer(strategy='most_frequent')\n",
    "data['street_encoded'] = imputer.fit_transform(data[['street_encoded']])\n",
    "```\n",
    "- **What it does**:\n",
    "  - Fills the missing values (`NaN`) in the `street_encoded` column using the most frequent value (mode).\n",
    "  - If a column has missing values, this method replaces them with the most common value in that column.\n",
    "\n",
    "- **Key Methods**:\n",
    "  - **`fit`**:\n",
    "    - Learns the most frequent value in the column.\n",
    "  - **`transform`**:\n",
    "    - Replaces missing values with the learned value.\n",
    "  - **Example**:\n",
    "    ```\n",
    "    Original:\n",
    "    street_encoded: [0, 1, NaN, 1, 2, NaN]\n",
    "    Most Frequent Value (mode): 1\n",
    "    After Imputation:\n",
    "    street_encoded: [0, 1, 1, 1, 2, 1]\n",
    "    ```\n",
    "\n",
    "---\n",
    "\n",
    "### **4. Decoding Back to Original Labels**\n",
    "```python\n",
    "data['street'] = encoder.inverse_transform(data['street_encoded'])\n",
    "```\n",
    "- **What it does**:\n",
    "  - Converts the numeric `street_encoded` values back to their original string labels.\n",
    "  - Uses the mapping learned during the `fit_transform` step of the `LabelEncoder`.\n",
    "\n",
    "- **Key Method**:\n",
    "  - **`inverse_transform`**:\n",
    "    - Maps integers back to their original labels (e.g., `[0, 1, 2] → ['Main St', 'Elm St', 'Park Ave']`).\n",
    "\n",
    "---\n",
    "\n",
    "### **5. Cleaning Up**\n",
    "```python\n",
    "data.drop(columns=['street_encoded'], inplace=True)\n",
    "```\n",
    "- **What it does**:\n",
    "  - Removes the temporary `street_encoded` column, as it's no longer needed.\n",
    "  - **`inplace=True`** ensures the changes are applied directly to the `data` dataframe without creating a new copy.\n",
    "\n",
    "---\n",
    "\n",
    "### **Why This Process?**\n",
    "This process is necessary because machine learning models require numerical data, and missing values cannot be directly handled by most algorithms. Here's how each step contributes:\n",
    "1. **Encoding categorical data**:\n",
    "   - Converts strings to integers so they can be processed.\n",
    "2. **Imputing missing values**:\n",
    "   - Replaces missing values with logical alternatives (e.g., mode) to avoid issues during model training.\n",
    "3. **Decoding back**:\n",
    "   - Converts numbers back to their original labels for human readability or downstream tasks.\n",
    "\n",
    "---\n",
    "\n",
    "### **Example Walkthrough**\n",
    "**Input Data (`data['street']`)**:\n",
    "```\n",
    "['Main St', 'Elm St', NaN, 'Elm St', 'Park Ave', NaN]\n",
    "```\n",
    "\n",
    "1. **Encoded (`street_encoded`)**:\n",
    "```\n",
    "[0, 1, 3 (for NaN), 1, 2, 3]\n",
    "```\n",
    "\n",
    "2. **Imputed (`street_encoded`)**:\n",
    "```\n",
    "[0, 1, 1, 1, 2, 1]  (NaNs replaced with mode = 1)\n",
    "```\n",
    "\n",
    "3. **Decoded (`street`)**:\n",
    "```\n",
    "['Main St', 'Elm St', 'Elm St', 'Elm St', 'Park Ave', 'Elm St']\n",
    "```\n",
    "\n",
    "---\n",
    "\n",
    "### **Advantages of This Approach**:\n",
    "- Handles both **missing values** and **categorical data** in a structured manner.\n",
    "- Allows categorical data to be imputed without complex logic.\n",
    "- Decodes back to original labels for interpretability.\n",
    "\n",
    "Let me know if you'd like further clarification!"
   ]
  },
  {
   "cell_type": "code",
   "execution_count": 10,
   "id": "8854281f",
   "metadata": {
    "_cell_guid": "cbcfb885-0a11-444e-a976-df479a8bbd91",
    "_uuid": "b56e77a2-83a7-4f19-ba98-8eae5efa51a7",
    "collapsed": false,
    "execution": {
     "iopub.execute_input": "2025-04-11T13:32:46.347700Z",
     "iopub.status.busy": "2025-04-11T13:32:46.347339Z",
     "iopub.status.idle": "2025-04-11T13:32:46.810052Z",
     "shell.execute_reply": "2025-04-11T13:32:46.809078Z"
    },
    "jupyter": {
     "outputs_hidden": false
    },
    "papermill": {
     "duration": 0.476316,
     "end_time": "2025-04-11T13:32:46.811425",
     "exception": false,
     "start_time": "2025-04-11T13:32:46.335109",
     "status": "completed"
    },
    "tags": []
   },
   "outputs": [
    {
     "data": {
      "text/plain": [
       "brokered_by         4533\n",
       "status                 0\n",
       "price                  0\n",
       "bed                 1404\n",
       "bath                1404\n",
       "acre_lot            1404\n",
       "street                 0\n",
       "city                1404\n",
       "state                  8\n",
       "zip_code             298\n",
       "house_size          1404\n",
       "prev_sold_date    733256\n",
       "dtype: int64"
      ]
     },
     "execution_count": 10,
     "metadata": {},
     "output_type": "execute_result"
    }
   ],
   "source": [
    "data.isnull().sum()"
   ]
  },
  {
   "cell_type": "code",
   "execution_count": 11,
   "id": "eb0e9840",
   "metadata": {
    "_cell_guid": "6af9afe9-05e3-4a1f-a28d-d01fc06312da",
    "_uuid": "6073b10a-4f23-4d97-86af-a0bd0ad7a948",
    "collapsed": false,
    "execution": {
     "iopub.execute_input": "2025-04-11T13:32:46.837204Z",
     "iopub.status.busy": "2025-04-11T13:32:46.836859Z",
     "iopub.status.idle": "2025-04-11T13:32:47.015864Z",
     "shell.execute_reply": "2025-04-11T13:32:47.014633Z"
    },
    "jupyter": {
     "outputs_hidden": false
    },
    "papermill": {
     "duration": 0.193963,
     "end_time": "2025-04-11T13:32:47.017488",
     "exception": false,
     "start_time": "2025-04-11T13:32:46.823525",
     "status": "completed"
    },
    "tags": []
   },
   "outputs": [],
   "source": [
    "data.drop(columns=['prev_sold_date'],inplace=True)"
   ]
  },
  {
   "cell_type": "code",
   "execution_count": 12,
   "id": "bc1f7982",
   "metadata": {
    "_cell_guid": "30d9280e-36de-4f6a-a52d-87850c51dd53",
    "_uuid": "cc84adfe-9dd2-4743-b040-5629026e83d9",
    "collapsed": false,
    "execution": {
     "iopub.execute_input": "2025-04-11T13:32:47.042431Z",
     "iopub.status.busy": "2025-04-11T13:32:47.042099Z",
     "iopub.status.idle": "2025-04-11T13:32:49.700931Z",
     "shell.execute_reply": "2025-04-11T13:32:49.700176Z"
    },
    "jupyter": {
     "outputs_hidden": false
    },
    "papermill": {
     "duration": 2.672892,
     "end_time": "2025-04-11T13:32:49.702522",
     "exception": false,
     "start_time": "2025-04-11T13:32:47.029630",
     "status": "completed"
    },
    "tags": []
   },
   "outputs": [],
   "source": [
    "data.drop_duplicates(inplace=True)"
   ]
  },
  {
   "cell_type": "code",
   "execution_count": 13,
   "id": "7243d7cf",
   "metadata": {
    "_cell_guid": "6f204a23-69ac-4d0c-be9f-8bc67ca690eb",
    "_uuid": "e74670ce-8761-48a8-8d46-8fea91905aea",
    "collapsed": false,
    "execution": {
     "iopub.execute_input": "2025-04-11T13:32:49.728328Z",
     "iopub.status.busy": "2025-04-11T13:32:49.727970Z",
     "iopub.status.idle": "2025-04-11T13:32:49.732717Z",
     "shell.execute_reply": "2025-04-11T13:32:49.731920Z"
    },
    "jupyter": {
     "outputs_hidden": false
    },
    "papermill": {
     "duration": 0.018475,
     "end_time": "2025-04-11T13:32:49.734053",
     "exception": false,
     "start_time": "2025-04-11T13:32:49.715578",
     "status": "completed"
    },
    "tags": []
   },
   "outputs": [
    {
     "data": {
      "text/plain": [
       "(2224003, 11)"
      ]
     },
     "execution_count": 13,
     "metadata": {},
     "output_type": "execute_result"
    }
   ],
   "source": [
    "data.shape"
   ]
  },
  {
   "cell_type": "code",
   "execution_count": 14,
   "id": "15f5f187",
   "metadata": {
    "_cell_guid": "4ccb7a20-4ff3-4bfc-9ef6-cf3ca92a97db",
    "_uuid": "4cfea817-200c-49af-96dd-043a530f2deb",
    "collapsed": false,
    "execution": {
     "iopub.execute_input": "2025-04-11T13:32:49.759021Z",
     "iopub.status.busy": "2025-04-11T13:32:49.758719Z",
     "iopub.status.idle": "2025-04-11T13:32:53.387086Z",
     "shell.execute_reply": "2025-04-11T13:32:53.386180Z"
    },
    "jupyter": {
     "outputs_hidden": false
    },
    "papermill": {
     "duration": 3.64259,
     "end_time": "2025-04-11T13:32:53.388639",
     "exception": false,
     "start_time": "2025-04-11T13:32:49.746049",
     "status": "completed"
    },
    "tags": []
   },
   "outputs": [
    {
     "name": "stdout",
     "output_type": "stream",
     "text": [
      "city encoder saved to encoders/city_encoder.pkl\n",
      "state encoder saved to encoders/state_encoder.pkl\n",
      "status encoder saved to encoders/status_encoder.pkl\n",
      "brokered_by encoder saved to encoders/brokered_by_encoder.pkl\n",
      "Encoders saved successfully!\n"
     ]
    }
   ],
   "source": [
    "import os\n",
    "from sklearn.preprocessing import LabelEncoder\n",
    "import joblib\n",
    "\n",
    "# Ensure the \"encoders\" directory exists\n",
    "os.makedirs(\"encoders\", exist_ok=True)\n",
    "\n",
    "# Initialize dictionary to store encoders\n",
    "encoders = {}\n",
    "\n",
    "# List of categorical features\n",
    "categorical_features = ['city', 'state', 'status', 'brokered_by']\n",
    "\n",
    "# Ensure all categorical values are strings and handle missing values\n",
    "for feature in categorical_features:\n",
    "    le = LabelEncoder()\n",
    "\n",
    "    # Convert all values to strings and replace NaN with \"Unknown\"\n",
    "    data[feature] = data[feature].astype(str).fillna(\"Unknown\")\n",
    "\n",
    "    # Fit and transform\n",
    "    data[feature] = le.fit_transform(data[feature])\n",
    "\n",
    "    # Save encoder and class mappings\n",
    "    joblib.dump({'encoder': le, 'classes': le.classes_}, f'encoders/{feature}_encoder.pkl')\n",
    "    print(f'{feature} encoder saved to encoders/{feature}_encoder.pkl')\n",
    "\n",
    "print(\"Encoders saved successfully!\")"
   ]
  },
  {
   "cell_type": "code",
   "execution_count": 15,
   "id": "dd85895e",
   "metadata": {
    "_cell_guid": "2fcf5138-90d8-4ef6-a8e1-7fa85feb4be6",
    "_uuid": "edd81bb7-e159-4536-9f27-a086390a2703",
    "collapsed": false,
    "execution": {
     "iopub.execute_input": "2025-04-11T13:32:53.413726Z",
     "iopub.status.busy": "2025-04-11T13:32:53.413461Z",
     "iopub.status.idle": "2025-04-11T13:32:54.645410Z",
     "shell.execute_reply": "2025-04-11T13:32:54.644616Z"
    },
    "jupyter": {
     "outputs_hidden": false
    },
    "papermill": {
     "duration": 1.246176,
     "end_time": "2025-04-11T13:32:54.647059",
     "exception": false,
     "start_time": "2025-04-11T13:32:53.400883",
     "status": "completed"
    },
    "tags": []
   },
   "outputs": [],
   "source": [
    "# Calculate the IQR for each feature\n",
    "num_features=['bed', 'bath', 'house_size', 'acre_lot', 'zip_code', 'price']\n",
    "\n",
    "for column in num_features:\n",
    "    Q1 = data[column].quantile(0.25)\n",
    "    Q3 = data[column].quantile(0.75)\n",
    "    IQR = Q3 - Q1\n",
    "    # Define the lower and upper bounds for outliers\n",
    "    lower_bound = Q1 - 1.5 * IQR\n",
    "    upper_bound = Q3 + 1.5 * IQR\n",
    "    # Remove outliers\n",
    "    data= data[(data[column] >= lower_bound) & (data[column] <= upper_bound)]"
   ]
  },
  {
   "cell_type": "code",
   "execution_count": 16,
   "id": "8a84e740",
   "metadata": {
    "_cell_guid": "1023febc-f827-435d-ae6f-11a706807aa7",
    "_uuid": "2f58a860-cbd4-4480-a4b4-e8938a3a9949",
    "collapsed": false,
    "execution": {
     "iopub.execute_input": "2025-04-11T13:32:54.685029Z",
     "iopub.status.busy": "2025-04-11T13:32:54.684639Z",
     "iopub.status.idle": "2025-04-11T13:32:54.690957Z",
     "shell.execute_reply": "2025-04-11T13:32:54.689651Z"
    },
    "jupyter": {
     "outputs_hidden": false
    },
    "papermill": {
     "duration": 0.028879,
     "end_time": "2025-04-11T13:32:54.693271",
     "exception": false,
     "start_time": "2025-04-11T13:32:54.664392",
     "status": "completed"
    },
    "tags": []
   },
   "outputs": [
    {
     "data": {
      "text/plain": [
       "(1553009, 11)"
      ]
     },
     "execution_count": 16,
     "metadata": {},
     "output_type": "execute_result"
    }
   ],
   "source": [
    "data.shape"
   ]
  },
  {
   "cell_type": "code",
   "execution_count": 17,
   "id": "36551cb9",
   "metadata": {
    "_cell_guid": "a2973293-e6b0-48c1-9f62-c869b5a6d835",
    "_uuid": "8bf6c032-bad8-462d-ac10-ff09ff403f80",
    "collapsed": false,
    "execution": {
     "iopub.execute_input": "2025-04-11T13:32:54.729786Z",
     "iopub.status.busy": "2025-04-11T13:32:54.729493Z",
     "iopub.status.idle": "2025-04-11T13:32:54.865334Z",
     "shell.execute_reply": "2025-04-11T13:32:54.864129Z"
    },
    "jupyter": {
     "outputs_hidden": false
    },
    "papermill": {
     "duration": 0.154121,
     "end_time": "2025-04-11T13:32:54.867261",
     "exception": false,
     "start_time": "2025-04-11T13:32:54.713140",
     "status": "completed"
    },
    "tags": []
   },
   "outputs": [
    {
     "name": "stdout",
     "output_type": "stream",
     "text": [
      "bed           0.382421\n",
      "bath          0.348884\n",
      "house_size    0.512836\n",
      "acre_lot      1.939072\n",
      "zip_code      0.133816\n",
      "price         0.703359\n",
      "dtype: float64\n"
     ]
    }
   ],
   "source": [
    "# Identify numerical features (exclude label-encoded columns if necessary)\n",
    "numerical_features = ['bed', 'bath', 'house_size', 'acre_lot', 'zip_code', 'price']  # Update based on your data\n",
    "\n",
    "# Check skewness only on numerical columns\n",
    "skewness = data[numerical_features].skew()\n",
    "print(skewness)"
   ]
  },
  {
   "cell_type": "code",
   "execution_count": 18,
   "id": "dc137e23",
   "metadata": {
    "_cell_guid": "f2e9edcc-1f97-4ed5-8057-466c847b0f7f",
    "_uuid": "8735dcaa-e033-4151-96e0-c3e369470e08",
    "collapsed": false,
    "execution": {
     "iopub.execute_input": "2025-04-11T13:32:54.895641Z",
     "iopub.status.busy": "2025-04-11T13:32:54.895317Z",
     "iopub.status.idle": "2025-04-11T13:32:55.080741Z",
     "shell.execute_reply": "2025-04-11T13:32:55.079673Z"
    },
    "jupyter": {
     "outputs_hidden": false
    },
    "papermill": {
     "duration": 0.200459,
     "end_time": "2025-04-11T13:32:55.082479",
     "exception": false,
     "start_time": "2025-04-11T13:32:54.882020",
     "status": "completed"
    },
    "tags": []
   },
   "outputs": [
    {
     "name": "stdout",
     "output_type": "stream",
     "text": [
      "bed_log          -0.104308\n",
      "bath_log         -0.313873\n",
      "house_size_log   -0.396963\n",
      "acre_lot_log      1.496216\n",
      "price_log        -1.756590\n",
      "dtype: float64\n"
     ]
    }
   ],
   "source": [
    "import numpy as np\n",
    "\n",
    "# Apply log transformation (be sure to add 1 to avoid log(0) issues)\n",
    "data['bed_log'] = np.log1p(data['bed'])  # log(x + 1)\n",
    "data['bath_log'] = np.log1p(data['bath'])\n",
    "data['house_size_log'] = np.log1p(data['house_size'])\n",
    "data['acre_lot_log'] = np.log1p(data['acre_lot'])\n",
    "data['price_log'] = np.log1p(data['price'])\n",
    "\n",
    "# Check skewness again\n",
    "print(data[['bed_log', 'bath_log', 'house_size_log', 'acre_lot_log', 'price_log']].skew())"
   ]
  },
  {
   "cell_type": "code",
   "execution_count": 19,
   "id": "50ba036d",
   "metadata": {
    "_cell_guid": "7a74f7d4-1f73-4d4a-a9a0-a9630f875e23",
    "_uuid": "e525d08f-23f1-4d5e-a415-9e98e3a39e69",
    "collapsed": false,
    "execution": {
     "iopub.execute_input": "2025-04-11T13:32:55.109049Z",
     "iopub.status.busy": "2025-04-11T13:32:55.108764Z",
     "iopub.status.idle": "2025-04-11T13:32:55.144327Z",
     "shell.execute_reply": "2025-04-11T13:32:55.143229Z"
    },
    "jupyter": {
     "outputs_hidden": false
    },
    "papermill": {
     "duration": 0.049814,
     "end_time": "2025-04-11T13:32:55.145713",
     "exception": false,
     "start_time": "2025-04-11T13:32:55.095899",
     "status": "completed"
    },
    "tags": []
   },
   "outputs": [
    {
     "name": "stdout",
     "output_type": "stream",
     "text": [
      "acre_lot_sqrt    1.073928\n",
      "dtype: float64\n"
     ]
    }
   ],
   "source": [
    "# Apply square root transformation to acre_lot\n",
    "data['acre_lot_sqrt'] = np.sqrt(data['acre_lot'])\n",
    "\n",
    "# Check the skewness after square root transformation\n",
    "print(data[['acre_lot_sqrt']].skew())"
   ]
  },
  {
   "cell_type": "code",
   "execution_count": 20,
   "id": "b255a3f6",
   "metadata": {
    "_cell_guid": "e3f4a70d-a5ca-48ab-b216-0f498a51d1c6",
    "_uuid": "bcee085b-14bf-4406-ab6a-96e88c3c761b",
    "collapsed": false,
    "execution": {
     "iopub.execute_input": "2025-04-11T13:32:55.171341Z",
     "iopub.status.busy": "2025-04-11T13:32:55.171042Z",
     "iopub.status.idle": "2025-04-11T13:32:55.218354Z",
     "shell.execute_reply": "2025-04-11T13:32:55.217229Z"
    },
    "jupyter": {
     "outputs_hidden": false
    },
    "papermill": {
     "duration": 0.061922,
     "end_time": "2025-04-11T13:32:55.219914",
     "exception": false,
     "start_time": "2025-04-11T13:32:55.157992",
     "status": "completed"
    },
    "tags": []
   },
   "outputs": [
    {
     "name": "stdout",
     "output_type": "stream",
     "text": [
      "acre_lot_cbrt    0.669182\n",
      "dtype: float64\n"
     ]
    }
   ],
   "source": [
    "# Apply cube root transformation to acre_lot\n",
    "data['acre_lot_cbrt'] = np.cbrt(data['acre_lot'])\n",
    "\n",
    "# Check the skewness after cube root transformation\n",
    "print(data[['acre_lot_cbrt']].skew())"
   ]
  },
  {
   "cell_type": "code",
   "execution_count": 21,
   "id": "623f68ef",
   "metadata": {
    "_cell_guid": "44446420-e289-4faf-bfaa-28fba78a2b62",
    "_uuid": "649dc5cc-8822-4954-8646-1789996d95c6",
    "collapsed": false,
    "execution": {
     "iopub.execute_input": "2025-04-11T13:32:55.244888Z",
     "iopub.status.busy": "2025-04-11T13:32:55.244644Z",
     "iopub.status.idle": "2025-04-11T13:32:55.287428Z",
     "shell.execute_reply": "2025-04-11T13:32:55.286378Z"
    },
    "jupyter": {
     "outputs_hidden": false
    },
    "papermill": {
     "duration": 0.056736,
     "end_time": "2025-04-11T13:32:55.289031",
     "exception": false,
     "start_time": "2025-04-11T13:32:55.232295",
     "status": "completed"
    },
    "tags": []
   },
   "outputs": [
    {
     "name": "stdout",
     "output_type": "stream",
     "text": [
      "price_sqrt   -0.13763\n",
      "dtype: float64\n"
     ]
    }
   ],
   "source": [
    "# Apply square root transformation to price_lot\n",
    "data['price_sqrt'] = np.sqrt(data['price'])\n",
    "\n",
    "# Check the skewness after square root transformation\n",
    "print(data[['price_sqrt']].skew())"
   ]
  },
  {
   "cell_type": "code",
   "execution_count": 22,
   "id": "afa0afe6",
   "metadata": {
    "_cell_guid": "783dd81c-5a96-4ece-b974-9359a543688c",
    "_uuid": "51a2fcad-a143-41f6-8f70-5f8c61a50b8a",
    "collapsed": false,
    "execution": {
     "iopub.execute_input": "2025-04-11T13:32:55.315154Z",
     "iopub.status.busy": "2025-04-11T13:32:55.314927Z",
     "iopub.status.idle": "2025-04-11T13:32:55.331984Z",
     "shell.execute_reply": "2025-04-11T13:32:55.331340Z"
    },
    "jupyter": {
     "outputs_hidden": false
    },
    "papermill": {
     "duration": 0.030728,
     "end_time": "2025-04-11T13:32:55.333161",
     "exception": false,
     "start_time": "2025-04-11T13:32:55.302433",
     "status": "completed"
    },
    "tags": []
   },
   "outputs": [
    {
     "data": {
      "text/html": [
       "<div>\n",
       "<style scoped>\n",
       "    .dataframe tbody tr th:only-of-type {\n",
       "        vertical-align: middle;\n",
       "    }\n",
       "\n",
       "    .dataframe tbody tr th {\n",
       "        vertical-align: top;\n",
       "    }\n",
       "\n",
       "    .dataframe thead th {\n",
       "        text-align: right;\n",
       "    }\n",
       "</style>\n",
       "<table border=\"1\" class=\"dataframe\">\n",
       "  <thead>\n",
       "    <tr style=\"text-align: right;\">\n",
       "      <th></th>\n",
       "      <th>brokered_by</th>\n",
       "      <th>status</th>\n",
       "      <th>price</th>\n",
       "      <th>bed</th>\n",
       "      <th>bath</th>\n",
       "      <th>acre_lot</th>\n",
       "      <th>street</th>\n",
       "      <th>city</th>\n",
       "      <th>state</th>\n",
       "      <th>zip_code</th>\n",
       "      <th>house_size</th>\n",
       "      <th>bed_log</th>\n",
       "      <th>bath_log</th>\n",
       "      <th>house_size_log</th>\n",
       "      <th>acre_lot_log</th>\n",
       "      <th>price_log</th>\n",
       "      <th>acre_lot_sqrt</th>\n",
       "      <th>acre_lot_cbrt</th>\n",
       "      <th>price_sqrt</th>\n",
       "    </tr>\n",
       "  </thead>\n",
       "  <tbody>\n",
       "    <tr>\n",
       "      <th>0</th>\n",
       "      <td>3757</td>\n",
       "      <td>0</td>\n",
       "      <td>105000.0</td>\n",
       "      <td>3.0</td>\n",
       "      <td>2.0</td>\n",
       "      <td>0.12</td>\n",
       "      <td>1962661.0</td>\n",
       "      <td>92</td>\n",
       "      <td>41</td>\n",
       "      <td>601.0</td>\n",
       "      <td>920.0</td>\n",
       "      <td>1.386294</td>\n",
       "      <td>1.098612</td>\n",
       "      <td>6.825460</td>\n",
       "      <td>0.113329</td>\n",
       "      <td>11.561725</td>\n",
       "      <td>0.346410</td>\n",
       "      <td>0.493242</td>\n",
       "      <td>324.037035</td>\n",
       "    </tr>\n",
       "    <tr>\n",
       "      <th>1</th>\n",
       "      <td>57581</td>\n",
       "      <td>0</td>\n",
       "      <td>80000.0</td>\n",
       "      <td>4.0</td>\n",
       "      <td>2.0</td>\n",
       "      <td>0.08</td>\n",
       "      <td>1902874.0</td>\n",
       "      <td>92</td>\n",
       "      <td>41</td>\n",
       "      <td>601.0</td>\n",
       "      <td>1527.0</td>\n",
       "      <td>1.609438</td>\n",
       "      <td>1.098612</td>\n",
       "      <td>7.331715</td>\n",
       "      <td>0.076961</td>\n",
       "      <td>11.289794</td>\n",
       "      <td>0.282843</td>\n",
       "      <td>0.430887</td>\n",
       "      <td>282.842712</td>\n",
       "    </tr>\n",
       "    <tr>\n",
       "      <th>2</th>\n",
       "      <td>3758</td>\n",
       "      <td>0</td>\n",
       "      <td>67000.0</td>\n",
       "      <td>2.0</td>\n",
       "      <td>1.0</td>\n",
       "      <td>0.15</td>\n",
       "      <td>1404990.0</td>\n",
       "      <td>8784</td>\n",
       "      <td>41</td>\n",
       "      <td>795.0</td>\n",
       "      <td>748.0</td>\n",
       "      <td>1.098612</td>\n",
       "      <td>0.693147</td>\n",
       "      <td>6.618739</td>\n",
       "      <td>0.139762</td>\n",
       "      <td>11.112463</td>\n",
       "      <td>0.387298</td>\n",
       "      <td>0.531329</td>\n",
       "      <td>258.843582</td>\n",
       "    </tr>\n",
       "    <tr>\n",
       "      <th>3</th>\n",
       "      <td>33736</td>\n",
       "      <td>0</td>\n",
       "      <td>145000.0</td>\n",
       "      <td>4.0</td>\n",
       "      <td>2.0</td>\n",
       "      <td>0.10</td>\n",
       "      <td>1947675.0</td>\n",
       "      <td>14306</td>\n",
       "      <td>41</td>\n",
       "      <td>731.0</td>\n",
       "      <td>1800.0</td>\n",
       "      <td>1.609438</td>\n",
       "      <td>1.098612</td>\n",
       "      <td>7.496097</td>\n",
       "      <td>0.095310</td>\n",
       "      <td>11.884496</td>\n",
       "      <td>0.316228</td>\n",
       "      <td>0.464159</td>\n",
       "      <td>380.788655</td>\n",
       "    </tr>\n",
       "    <tr>\n",
       "      <th>5</th>\n",
       "      <td>3757</td>\n",
       "      <td>0</td>\n",
       "      <td>179000.0</td>\n",
       "      <td>4.0</td>\n",
       "      <td>3.0</td>\n",
       "      <td>0.46</td>\n",
       "      <td>1850806.0</td>\n",
       "      <td>15862</td>\n",
       "      <td>41</td>\n",
       "      <td>612.0</td>\n",
       "      <td>2520.0</td>\n",
       "      <td>1.609438</td>\n",
       "      <td>1.386294</td>\n",
       "      <td>7.832411</td>\n",
       "      <td>0.378436</td>\n",
       "      <td>12.095147</td>\n",
       "      <td>0.678233</td>\n",
       "      <td>0.771944</td>\n",
       "      <td>423.083916</td>\n",
       "    </tr>\n",
       "  </tbody>\n",
       "</table>\n",
       "</div>"
      ],
      "text/plain": [
       "   brokered_by  status     price  bed  bath  acre_lot     street   city  \\\n",
       "0         3757       0  105000.0  3.0   2.0      0.12  1962661.0     92   \n",
       "1        57581       0   80000.0  4.0   2.0      0.08  1902874.0     92   \n",
       "2         3758       0   67000.0  2.0   1.0      0.15  1404990.0   8784   \n",
       "3        33736       0  145000.0  4.0   2.0      0.10  1947675.0  14306   \n",
       "5         3757       0  179000.0  4.0   3.0      0.46  1850806.0  15862   \n",
       "\n",
       "   state  zip_code  house_size   bed_log  bath_log  house_size_log  \\\n",
       "0     41     601.0       920.0  1.386294  1.098612        6.825460   \n",
       "1     41     601.0      1527.0  1.609438  1.098612        7.331715   \n",
       "2     41     795.0       748.0  1.098612  0.693147        6.618739   \n",
       "3     41     731.0      1800.0  1.609438  1.098612        7.496097   \n",
       "5     41     612.0      2520.0  1.609438  1.386294        7.832411   \n",
       "\n",
       "   acre_lot_log  price_log  acre_lot_sqrt  acre_lot_cbrt  price_sqrt  \n",
       "0      0.113329  11.561725       0.346410       0.493242  324.037035  \n",
       "1      0.076961  11.289794       0.282843       0.430887  282.842712  \n",
       "2      0.139762  11.112463       0.387298       0.531329  258.843582  \n",
       "3      0.095310  11.884496       0.316228       0.464159  380.788655  \n",
       "5      0.378436  12.095147       0.678233       0.771944  423.083916  "
      ]
     },
     "execution_count": 22,
     "metadata": {},
     "output_type": "execute_result"
    }
   ],
   "source": [
    "data.head()"
   ]
  },
  {
   "cell_type": "code",
   "execution_count": 23,
   "id": "cc0e0e73",
   "metadata": {
    "_cell_guid": "76e271b4-1c11-4955-b347-2e1c2cb6c51e",
    "_uuid": "566f8394-7443-4eca-89cf-44920715a4ec",
    "collapsed": false,
    "execution": {
     "iopub.execute_input": "2025-04-11T13:32:55.358616Z",
     "iopub.status.busy": "2025-04-11T13:32:55.358373Z",
     "iopub.status.idle": "2025-04-11T13:32:55.462469Z",
     "shell.execute_reply": "2025-04-11T13:32:55.461699Z"
    },
    "jupyter": {
     "outputs_hidden": false
    },
    "papermill": {
     "duration": 0.118547,
     "end_time": "2025-04-11T13:32:55.464145",
     "exception": false,
     "start_time": "2025-04-11T13:32:55.345598",
     "status": "completed"
    },
    "tags": []
   },
   "outputs": [],
   "source": [
    "data.drop(columns=['price_log','acre_lot_sqrt','price','acre_lot_log','acre_lot','bed','bath','house_size'],axis=1,inplace=True)"
   ]
  },
  {
   "cell_type": "code",
   "execution_count": 24,
   "id": "332ba70d",
   "metadata": {
    "_cell_guid": "7541be0d-2541-4848-a84a-087355dcbd91",
    "_uuid": "01b11a79-63ca-488a-94cf-23f3d5929781",
    "collapsed": false,
    "execution": {
     "iopub.execute_input": "2025-04-11T13:32:55.490088Z",
     "iopub.status.busy": "2025-04-11T13:32:55.489839Z",
     "iopub.status.idle": "2025-04-11T13:32:55.500892Z",
     "shell.execute_reply": "2025-04-11T13:32:55.500230Z"
    },
    "jupyter": {
     "outputs_hidden": false
    },
    "papermill": {
     "duration": 0.025223,
     "end_time": "2025-04-11T13:32:55.502038",
     "exception": false,
     "start_time": "2025-04-11T13:32:55.476815",
     "status": "completed"
    },
    "tags": []
   },
   "outputs": [
    {
     "data": {
      "text/html": [
       "<div>\n",
       "<style scoped>\n",
       "    .dataframe tbody tr th:only-of-type {\n",
       "        vertical-align: middle;\n",
       "    }\n",
       "\n",
       "    .dataframe tbody tr th {\n",
       "        vertical-align: top;\n",
       "    }\n",
       "\n",
       "    .dataframe thead th {\n",
       "        text-align: right;\n",
       "    }\n",
       "</style>\n",
       "<table border=\"1\" class=\"dataframe\">\n",
       "  <thead>\n",
       "    <tr style=\"text-align: right;\">\n",
       "      <th></th>\n",
       "      <th>brokered_by</th>\n",
       "      <th>status</th>\n",
       "      <th>street</th>\n",
       "      <th>city</th>\n",
       "      <th>state</th>\n",
       "      <th>zip_code</th>\n",
       "      <th>bed_log</th>\n",
       "      <th>bath_log</th>\n",
       "      <th>house_size_log</th>\n",
       "      <th>acre_lot_cbrt</th>\n",
       "      <th>price_sqrt</th>\n",
       "    </tr>\n",
       "  </thead>\n",
       "  <tbody>\n",
       "    <tr>\n",
       "      <th>0</th>\n",
       "      <td>3757</td>\n",
       "      <td>0</td>\n",
       "      <td>1962661.0</td>\n",
       "      <td>92</td>\n",
       "      <td>41</td>\n",
       "      <td>601.0</td>\n",
       "      <td>1.386294</td>\n",
       "      <td>1.098612</td>\n",
       "      <td>6.825460</td>\n",
       "      <td>0.493242</td>\n",
       "      <td>324.037035</td>\n",
       "    </tr>\n",
       "    <tr>\n",
       "      <th>1</th>\n",
       "      <td>57581</td>\n",
       "      <td>0</td>\n",
       "      <td>1902874.0</td>\n",
       "      <td>92</td>\n",
       "      <td>41</td>\n",
       "      <td>601.0</td>\n",
       "      <td>1.609438</td>\n",
       "      <td>1.098612</td>\n",
       "      <td>7.331715</td>\n",
       "      <td>0.430887</td>\n",
       "      <td>282.842712</td>\n",
       "    </tr>\n",
       "    <tr>\n",
       "      <th>2</th>\n",
       "      <td>3758</td>\n",
       "      <td>0</td>\n",
       "      <td>1404990.0</td>\n",
       "      <td>8784</td>\n",
       "      <td>41</td>\n",
       "      <td>795.0</td>\n",
       "      <td>1.098612</td>\n",
       "      <td>0.693147</td>\n",
       "      <td>6.618739</td>\n",
       "      <td>0.531329</td>\n",
       "      <td>258.843582</td>\n",
       "    </tr>\n",
       "    <tr>\n",
       "      <th>3</th>\n",
       "      <td>33736</td>\n",
       "      <td>0</td>\n",
       "      <td>1947675.0</td>\n",
       "      <td>14306</td>\n",
       "      <td>41</td>\n",
       "      <td>731.0</td>\n",
       "      <td>1.609438</td>\n",
       "      <td>1.098612</td>\n",
       "      <td>7.496097</td>\n",
       "      <td>0.464159</td>\n",
       "      <td>380.788655</td>\n",
       "    </tr>\n",
       "    <tr>\n",
       "      <th>5</th>\n",
       "      <td>3757</td>\n",
       "      <td>0</td>\n",
       "      <td>1850806.0</td>\n",
       "      <td>15862</td>\n",
       "      <td>41</td>\n",
       "      <td>612.0</td>\n",
       "      <td>1.609438</td>\n",
       "      <td>1.386294</td>\n",
       "      <td>7.832411</td>\n",
       "      <td>0.771944</td>\n",
       "      <td>423.083916</td>\n",
       "    </tr>\n",
       "  </tbody>\n",
       "</table>\n",
       "</div>"
      ],
      "text/plain": [
       "   brokered_by  status     street   city  state  zip_code   bed_log  bath_log  \\\n",
       "0         3757       0  1962661.0     92     41     601.0  1.386294  1.098612   \n",
       "1        57581       0  1902874.0     92     41     601.0  1.609438  1.098612   \n",
       "2         3758       0  1404990.0   8784     41     795.0  1.098612  0.693147   \n",
       "3        33736       0  1947675.0  14306     41     731.0  1.609438  1.098612   \n",
       "5         3757       0  1850806.0  15862     41     612.0  1.609438  1.386294   \n",
       "\n",
       "   house_size_log  acre_lot_cbrt  price_sqrt  \n",
       "0        6.825460       0.493242  324.037035  \n",
       "1        7.331715       0.430887  282.842712  \n",
       "2        6.618739       0.531329  258.843582  \n",
       "3        7.496097       0.464159  380.788655  \n",
       "5        7.832411       0.771944  423.083916  "
      ]
     },
     "execution_count": 24,
     "metadata": {},
     "output_type": "execute_result"
    }
   ],
   "source": [
    "data.head()"
   ]
  },
  {
   "cell_type": "code",
   "execution_count": 25,
   "id": "1410bf58",
   "metadata": {
    "_cell_guid": "b72af6c1-50d0-4e47-b454-0de9d2463f53",
    "_uuid": "41261f07-4215-48f3-83c8-dad8e5d041b3",
    "collapsed": false,
    "execution": {
     "iopub.execute_input": "2025-04-11T13:32:55.527999Z",
     "iopub.status.busy": "2025-04-11T13:32:55.527751Z",
     "iopub.status.idle": "2025-04-11T13:32:55.639489Z",
     "shell.execute_reply": "2025-04-11T13:32:55.638589Z"
    },
    "jupyter": {
     "outputs_hidden": false
    },
    "papermill": {
     "duration": 0.126542,
     "end_time": "2025-04-11T13:32:55.641153",
     "exception": false,
     "start_time": "2025-04-11T13:32:55.514611",
     "status": "completed"
    },
    "tags": []
   },
   "outputs": [
    {
     "name": "stdout",
     "output_type": "stream",
     "text": [
      "<class 'pandas.core.frame.DataFrame'>\n",
      "Index: 1553009 entries, 0 to 2226380\n",
      "Data columns (total 11 columns):\n",
      " #   Column          Non-Null Count    Dtype  \n",
      "---  ------          --------------    -----  \n",
      " 0   brokered_by     1553009 non-null  int64  \n",
      " 1   status          1553009 non-null  int64  \n",
      " 2   street          1553009 non-null  object \n",
      " 3   city            1553009 non-null  int64  \n",
      " 4   state           1553009 non-null  int64  \n",
      " 5   zip_code        1553009 non-null  float64\n",
      " 6   bed_log         1553009 non-null  float64\n",
      " 7   bath_log        1553009 non-null  float64\n",
      " 8   house_size_log  1553009 non-null  float64\n",
      " 9   acre_lot_cbrt   1553009 non-null  float64\n",
      " 10  price_sqrt      1553009 non-null  float64\n",
      "dtypes: float64(6), int64(4), object(1)\n",
      "memory usage: 142.2+ MB\n"
     ]
    }
   ],
   "source": [
    "data.info()"
   ]
  },
  {
   "cell_type": "code",
   "execution_count": 26,
   "id": "a2d07d95",
   "metadata": {
    "_cell_guid": "ce49450d-146f-490a-8543-fec291b600d3",
    "_uuid": "c4c22aab-75a5-458e-be25-f36ada2a221f",
    "collapsed": false,
    "execution": {
     "iopub.execute_input": "2025-04-11T13:32:55.667839Z",
     "iopub.status.busy": "2025-04-11T13:32:55.667606Z",
     "iopub.status.idle": "2025-04-11T13:32:55.919236Z",
     "shell.execute_reply": "2025-04-11T13:32:55.918412Z"
    },
    "jupyter": {
     "outputs_hidden": false
    },
    "papermill": {
     "duration": 0.26616,
     "end_time": "2025-04-11T13:32:55.920788",
     "exception": false,
     "start_time": "2025-04-11T13:32:55.654628",
     "status": "completed"
    },
    "tags": []
   },
   "outputs": [
    {
     "data": {
      "text/html": [
       "<div>\n",
       "<style scoped>\n",
       "    .dataframe tbody tr th:only-of-type {\n",
       "        vertical-align: middle;\n",
       "    }\n",
       "\n",
       "    .dataframe tbody tr th {\n",
       "        vertical-align: top;\n",
       "    }\n",
       "\n",
       "    .dataframe thead th {\n",
       "        text-align: right;\n",
       "    }\n",
       "</style>\n",
       "<table border=\"1\" class=\"dataframe\">\n",
       "  <thead>\n",
       "    <tr style=\"text-align: right;\">\n",
       "      <th></th>\n",
       "      <th>brokered_by</th>\n",
       "      <th>status</th>\n",
       "      <th>street</th>\n",
       "      <th>city</th>\n",
       "      <th>state</th>\n",
       "      <th>zip_code</th>\n",
       "      <th>bed_log</th>\n",
       "      <th>bath_log</th>\n",
       "      <th>house_size_log</th>\n",
       "      <th>acre_lot_cbrt</th>\n",
       "      <th>price_sqrt</th>\n",
       "    </tr>\n",
       "  </thead>\n",
       "  <tbody>\n",
       "    <tr>\n",
       "      <th>0</th>\n",
       "      <td>3757</td>\n",
       "      <td>0</td>\n",
       "      <td>1962661.0</td>\n",
       "      <td>92</td>\n",
       "      <td>41</td>\n",
       "      <td>-1.814897</td>\n",
       "      <td>-0.063772</td>\n",
       "      <td>-0.230391</td>\n",
       "      <td>-1.796215</td>\n",
       "      <td>-0.755004</td>\n",
       "      <td>-0.996061</td>\n",
       "    </tr>\n",
       "    <tr>\n",
       "      <th>1</th>\n",
       "      <td>57581</td>\n",
       "      <td>0</td>\n",
       "      <td>1902874.0</td>\n",
       "      <td>92</td>\n",
       "      <td>41</td>\n",
       "      <td>-1.814897</td>\n",
       "      <td>1.197506</td>\n",
       "      <td>-0.230391</td>\n",
       "      <td>-0.248733</td>\n",
       "      <td>-1.093096</td>\n",
       "      <td>-1.197405</td>\n",
       "    </tr>\n",
       "    <tr>\n",
       "      <th>2</th>\n",
       "      <td>3758</td>\n",
       "      <td>0</td>\n",
       "      <td>1404990.0</td>\n",
       "      <td>8784</td>\n",
       "      <td>41</td>\n",
       "      <td>-1.808005</td>\n",
       "      <td>-1.689842</td>\n",
       "      <td>-2.008499</td>\n",
       "      <td>-2.428105</td>\n",
       "      <td>-0.548496</td>\n",
       "      <td>-1.314706</td>\n",
       "    </tr>\n",
       "    <tr>\n",
       "      <th>3</th>\n",
       "      <td>33736</td>\n",
       "      <td>0</td>\n",
       "      <td>1947675.0</td>\n",
       "      <td>14306</td>\n",
       "      <td>41</td>\n",
       "      <td>-1.810279</td>\n",
       "      <td>1.197506</td>\n",
       "      <td>-0.230391</td>\n",
       "      <td>0.253739</td>\n",
       "      <td>-0.912695</td>\n",
       "      <td>-0.718677</td>\n",
       "    </tr>\n",
       "    <tr>\n",
       "      <th>5</th>\n",
       "      <td>3757</td>\n",
       "      <td>0</td>\n",
       "      <td>1850806.0</td>\n",
       "      <td>15862</td>\n",
       "      <td>41</td>\n",
       "      <td>-1.814506</td>\n",
       "      <td>1.197506</td>\n",
       "      <td>1.031196</td>\n",
       "      <td>1.281758</td>\n",
       "      <td>0.756124</td>\n",
       "      <td>-0.511951</td>\n",
       "    </tr>\n",
       "  </tbody>\n",
       "</table>\n",
       "</div>"
      ],
      "text/plain": [
       "   brokered_by  status     street   city  state  zip_code   bed_log  bath_log  \\\n",
       "0         3757       0  1962661.0     92     41 -1.814897 -0.063772 -0.230391   \n",
       "1        57581       0  1902874.0     92     41 -1.814897  1.197506 -0.230391   \n",
       "2         3758       0  1404990.0   8784     41 -1.808005 -1.689842 -2.008499   \n",
       "3        33736       0  1947675.0  14306     41 -1.810279  1.197506 -0.230391   \n",
       "5         3757       0  1850806.0  15862     41 -1.814506  1.197506  1.031196   \n",
       "\n",
       "   house_size_log  acre_lot_cbrt  price_sqrt  \n",
       "0       -1.796215      -0.755004   -0.996061  \n",
       "1       -0.248733      -1.093096   -1.197405  \n",
       "2       -2.428105      -0.548496   -1.314706  \n",
       "3        0.253739      -0.912695   -0.718677  \n",
       "5        1.281758       0.756124   -0.511951  "
      ]
     },
     "execution_count": 26,
     "metadata": {},
     "output_type": "execute_result"
    }
   ],
   "source": [
    "from sklearn.preprocessing import StandardScaler\n",
    "columns_to_scale = ['zip_code', 'bed_log', 'bath_log', 'house_size_log', 'acre_lot_cbrt', 'price_sqrt']\n",
    "\n",
    "# Initialize the StandardScaler\n",
    "scaler = StandardScaler()\n",
    "\n",
    "# Apply StandardScaler to the selected columns\n",
    "data[columns_to_scale] = scaler.fit_transform(data[columns_to_scale])\n",
    "\n",
    "# Display the scaled DataFrame\n",
    "data.head()"
   ]
  },
  {
   "cell_type": "code",
   "execution_count": 27,
   "id": "7c7927d5",
   "metadata": {
    "_cell_guid": "cd61f193-5668-4ca9-8398-6ed37fc6dd9a",
    "_uuid": "231d6924-d20b-4a04-bd5d-1da10566d7c9",
    "collapsed": false,
    "execution": {
     "iopub.execute_input": "2025-04-11T13:32:55.948406Z",
     "iopub.status.busy": "2025-04-11T13:32:55.948051Z",
     "iopub.status.idle": "2025-04-11T13:32:57.208095Z",
     "shell.execute_reply": "2025-04-11T13:32:57.207240Z"
    },
    "jupyter": {
     "outputs_hidden": false
    },
    "papermill": {
     "duration": 1.276055,
     "end_time": "2025-04-11T13:32:57.210752",
     "exception": false,
     "start_time": "2025-04-11T13:32:55.934697",
     "status": "completed"
    },
    "tags": []
   },
   "outputs": [
    {
     "data": {
      "image/png": "[encoded data removed]",
      "text/plain": [
       "<Figure size 1200x800 with 2 Axes>"
      ]
     },
     "metadata": {},
     "output_type": "display_data"
    }
   ],
   "source": [
    "import seaborn as sns\n",
    "import matplotlib.pyplot as plt\n",
    "\n",
    "# Calculate the correlation matrix\n",
    "corr_matrix = data.corr()\n",
    "\n",
    "# Plot the heatmap\n",
    "plt.figure(figsize=(12, 8))\n",
    "sns.heatmap(corr_matrix, annot=True, cmap=\"coolwarm\", fmt=\".2f\", linewidths=0.5)\n",
    "plt.title(\"Correlation Heatmap\")\n",
    "plt.show()"
   ]
  },
  {
   "cell_type": "code",
   "execution_count": 28,
   "id": "c99bc90f",
   "metadata": {
    "_cell_guid": "c5276878-f821-44cb-bbd6-b8b4bf48cfa6",
    "_uuid": "6273a634-9c90-4420-a188-d13baa1f09d2",
    "collapsed": false,
    "execution": {
     "iopub.execute_input": "2025-04-11T13:32:57.245181Z",
     "iopub.status.busy": "2025-04-11T13:32:57.244887Z",
     "iopub.status.idle": "2025-04-11T13:32:57.636701Z",
     "shell.execute_reply": "2025-04-11T13:32:57.635935Z"
    },
    "jupyter": {
     "outputs_hidden": false
    },
    "papermill": {
     "duration": 0.411219,
     "end_time": "2025-04-11T13:32:57.638198",
     "exception": false,
     "start_time": "2025-04-11T13:32:57.226979",
     "status": "completed"
    },
    "tags": []
   },
   "outputs": [],
   "source": [
    "data['street'] = pd.to_numeric(data['street'], errors='coerce')"
   ]
  },
  {
   "cell_type": "code",
   "execution_count": 29,
   "id": "3ea0e923",
   "metadata": {
    "_cell_guid": "194cc0c1-e93b-49d7-beb5-88b43ad00909",
    "_uuid": "19dcea55-a397-4191-b1ef-c7f5cc88af37",
    "collapsed": false,
    "execution": {
     "iopub.execute_input": "2025-04-11T13:32:57.669453Z",
     "iopub.status.busy": "2025-04-11T13:32:57.669164Z",
     "iopub.status.idle": "2025-04-11T13:32:57.694631Z",
     "shell.execute_reply": "2025-04-11T13:32:57.693761Z"
    },
    "jupyter": {
     "outputs_hidden": false
    },
    "papermill": {
     "duration": 0.042104,
     "end_time": "2025-04-11T13:32:57.695937",
     "exception": false,
     "start_time": "2025-04-11T13:32:57.653833",
     "status": "completed"
    },
    "tags": []
   },
   "outputs": [
    {
     "data": {
      "text/plain": [
       "brokered_by          0\n",
       "status               0\n",
       "street            6101\n",
       "city                 0\n",
       "state                0\n",
       "zip_code             0\n",
       "bed_log              0\n",
       "bath_log             0\n",
       "house_size_log       0\n",
       "acre_lot_cbrt        0\n",
       "price_sqrt           0\n",
       "dtype: int64"
      ]
     },
     "execution_count": 29,
     "metadata": {},
     "output_type": "execute_result"
    }
   ],
   "source": [
    "data.isnull().sum()"
   ]
  },
  {
   "cell_type": "code",
   "execution_count": 30,
   "id": "15625bb6",
   "metadata": {
    "_cell_guid": "86e0ad42-c9fe-48dd-85d6-1f36599c9473",
    "_uuid": "89a96dc4-2593-4cdf-86a4-9f83c00fa778",
    "collapsed": false,
    "execution": {
     "iopub.execute_input": "2025-04-11T13:32:57.729365Z",
     "iopub.status.busy": "2025-04-11T13:32:57.729017Z",
     "iopub.status.idle": "2025-04-11T13:32:57.851016Z",
     "shell.execute_reply": "2025-04-11T13:32:57.850313Z"
    },
    "jupyter": {
     "outputs_hidden": false
    },
    "papermill": {
     "duration": 0.140644,
     "end_time": "2025-04-11T13:32:57.852597",
     "exception": false,
     "start_time": "2025-04-11T13:32:57.711953",
     "status": "completed"
    },
    "tags": []
   },
   "outputs": [],
   "source": [
    "# Drop rows where 'street' column has NaN values\n",
    "data = data.dropna(subset=['street'])"
   ]
  },
  {
   "cell_type": "markdown",
   "id": "9b8557af",
   "metadata": {
    "_cell_guid": "c34e1bdd-0df5-41f8-bcc4-b9a29e8d8949",
    "_uuid": "b5fd5f25-eb06-4160-83ba-2572fbaf4256",
    "collapsed": false,
    "jupyter": {
     "outputs_hidden": false
    },
    "papermill": {
     "duration": 0.014589,
     "end_time": "2025-04-11T13:32:57.882652",
     "exception": false,
     "start_time": "2025-04-11T13:32:57.868063",
     "status": "completed"
    },
    "tags": []
   },
   "source": []
  },
  {
   "cell_type": "code",
   "execution_count": 31,
   "id": "e2b4ae93",
   "metadata": {
    "_cell_guid": "9594aa2c-442c-48dd-88bd-6f640e7042a9",
    "_uuid": "759485d3-f46d-4fa6-8976-94f5c9ba78e2",
    "collapsed": false,
    "execution": {
     "iopub.execute_input": "2025-04-11T13:32:57.913977Z",
     "iopub.status.busy": "2025-04-11T13:32:57.913651Z",
     "iopub.status.idle": "2025-04-11T13:32:57.938898Z",
     "shell.execute_reply": "2025-04-11T13:32:57.938117Z"
    },
    "jupyter": {
     "outputs_hidden": false
    },
    "papermill": {
     "duration": 0.042538,
     "end_time": "2025-04-11T13:32:57.940420",
     "exception": false,
     "start_time": "2025-04-11T13:32:57.897882",
     "status": "completed"
    },
    "tags": []
   },
   "outputs": [
    {
     "data": {
      "text/plain": [
       "brokered_by       0\n",
       "status            0\n",
       "street            0\n",
       "city              0\n",
       "state             0\n",
       "zip_code          0\n",
       "bed_log           0\n",
       "bath_log          0\n",
       "house_size_log    0\n",
       "acre_lot_cbrt     0\n",
       "price_sqrt        0\n",
       "dtype: int64"
      ]
     },
     "execution_count": 31,
     "metadata": {},
     "output_type": "execute_result"
    }
   ],
   "source": [
    "data.isnull().sum()"
   ]
  },
  {
   "cell_type": "code",
   "execution_count": 32,
   "id": "60f7756d",
   "metadata": {
    "_cell_guid": "55916bec-f0de-4896-92bb-ae4a53b13ce5",
    "_uuid": "17ac268c-ffc3-436e-9bb0-f46e967cb655",
    "collapsed": false,
    "execution": {
     "iopub.execute_input": "2025-04-11T13:32:57.971690Z",
     "iopub.status.busy": "2025-04-11T13:32:57.971432Z",
     "iopub.status.idle": "2025-04-11T13:32:57.976178Z",
     "shell.execute_reply": "2025-04-11T13:32:57.975541Z"
    },
    "jupyter": {
     "outputs_hidden": false
    },
    "papermill": {
     "duration": 0.021489,
     "end_time": "2025-04-11T13:32:57.977394",
     "exception": false,
     "start_time": "2025-04-11T13:32:57.955905",
     "status": "completed"
    },
    "tags": []
   },
   "outputs": [
    {
     "data": {
      "text/plain": [
       "(1546908, 11)"
      ]
     },
     "execution_count": 32,
     "metadata": {},
     "output_type": "execute_result"
    }
   ],
   "source": [
    "data.shape"
   ]
  },
  {
   "cell_type": "code",
   "execution_count": 33,
   "id": "95b3cd96",
   "metadata": {
    "_cell_guid": "2b1b4cfd-9e80-4fbf-b715-e062e4aa635b",
    "_uuid": "1525a901-bba2-4e33-8861-a733daa66729",
    "collapsed": false,
    "execution": {
     "iopub.execute_input": "2025-04-11T13:32:58.008213Z",
     "iopub.status.busy": "2025-04-11T13:32:58.008008Z",
     "iopub.status.idle": "2025-04-11T13:32:58.059191Z",
     "shell.execute_reply": "2025-04-11T13:32:58.058498Z"
    },
    "jupyter": {
     "outputs_hidden": false
    },
    "papermill": {
     "duration": 0.068199,
     "end_time": "2025-04-11T13:32:58.060823",
     "exception": false,
     "start_time": "2025-04-11T13:32:57.992624",
     "status": "completed"
    },
    "tags": []
   },
   "outputs": [],
   "source": [
    "data['bed_bath_balance']=data['bed_log']*data['bath_log']\n",
    "data['price_per_sqft']=data['price_sqrt']/data['house_size_log']\n",
    "data['price_per_bedroom']=data['price_sqrt']/data['bed_log']\n",
    "data['average_size_room'] = data['house_size_log'] / (data['bed_log'].replace(0, np.nan))\n",
    "data['bed_bath_ratio'] = data['bed_log'] / (data['bath_log'].replace(0, np.nan))\n",
    "data['efficient_land_use'] = data['house_size_log'] / (data['acre_lot_cbrt'].replace(0, np.nan))"
   ]
  },
  {
   "cell_type": "code",
   "execution_count": 34,
   "id": "d8abeca5",
   "metadata": {
    "_cell_guid": "d7b1e6f8-55cc-431a-bfff-477f962dcf6d",
    "_uuid": "91665d45-8710-4014-b5f6-5b1df57188a7",
    "collapsed": false,
    "execution": {
     "iopub.execute_input": "2025-04-11T13:32:58.092462Z",
     "iopub.status.busy": "2025-04-11T13:32:58.092175Z",
     "iopub.status.idle": "2025-04-11T13:32:58.162335Z",
     "shell.execute_reply": "2025-04-11T13:32:58.161174Z"
    },
    "jupyter": {
     "outputs_hidden": false
    },
    "papermill": {
     "duration": 0.087527,
     "end_time": "2025-04-11T13:32:58.163728",
     "exception": false,
     "start_time": "2025-04-11T13:32:58.076201",
     "status": "completed"
    },
    "tags": []
   },
   "outputs": [
    {
     "name": "stdout",
     "output_type": "stream",
     "text": [
      "brokered_by           0\n",
      "status                0\n",
      "street                0\n",
      "city                  0\n",
      "state                 0\n",
      "zip_code              0\n",
      "bed_log               0\n",
      "bath_log              0\n",
      "house_size_log        0\n",
      "acre_lot_cbrt         0\n",
      "price_sqrt            0\n",
      "bed_bath_balance      0\n",
      "price_per_sqft        0\n",
      "price_per_bedroom     0\n",
      "average_size_room     0\n",
      "bed_bath_ratio        0\n",
      "efficient_land_use    0\n",
      "dtype: int64\n",
      "brokered_by           0\n",
      "status                0\n",
      "street                0\n",
      "city                  0\n",
      "state                 0\n",
      "zip_code              0\n",
      "bed_log               0\n",
      "bath_log              0\n",
      "house_size_log        0\n",
      "acre_lot_cbrt         0\n",
      "price_sqrt            0\n",
      "bed_bath_balance      0\n",
      "price_per_sqft        0\n",
      "price_per_bedroom     0\n",
      "average_size_room     0\n",
      "bed_bath_ratio        0\n",
      "efficient_land_use    0\n",
      "dtype: int64\n"
     ]
    }
   ],
   "source": [
    "print(data.isnull().sum())  # Count NaN values\n",
    "print(np.isinf(data).sum())  # Count infinite values"
   ]
  },
  {
   "cell_type": "code",
   "execution_count": 35,
   "id": "f9b10c00",
   "metadata": {
    "_cell_guid": "2519b0f6-3633-469e-8fe8-c756be38220b",
    "_uuid": "dbc92601-9794-457c-8ddc-111afe4b30af",
    "collapsed": false,
    "execution": {
     "iopub.execute_input": "2025-04-11T13:32:58.195469Z",
     "iopub.status.busy": "2025-04-11T13:32:58.195174Z",
     "iopub.status.idle": "2025-04-11T13:32:58.812476Z",
     "shell.execute_reply": "2025-04-11T13:32:58.811742Z"
    },
    "jupyter": {
     "outputs_hidden": false
    },
    "papermill": {
     "duration": 0.634598,
     "end_time": "2025-04-11T13:32:58.814079",
     "exception": false,
     "start_time": "2025-04-11T13:32:58.179481",
     "status": "completed"
    },
    "tags": []
   },
   "outputs": [],
   "source": [
    "# Calculate the IQR for each feature\n",
    "num_features=['bed_bath_balance', 'average_size_room', 'bed_bath_ratio',\n",
    "            'efficient_land_use', 'price_per_sqft', 'price_per_bedroom']\n",
    "\n",
    "for column in num_features:\n",
    "    Q1 = data[column].quantile(0.25)\n",
    "    Q3 = data[column].quantile(0.75)\n",
    "    IQR = Q3 - Q1\n",
    "    # Define the lower and upper bounds for outliers\n",
    "    lower_bound = Q1 - 1.5 * IQR\n",
    "    upper_bound = Q3 + 1.5 * IQR\n",
    "    # Remove outliers\n",
    "    data= data[(data[column] >= lower_bound) & (data[column] <= upper_bound)]"
   ]
  },
  {
   "cell_type": "code",
   "execution_count": 36,
   "id": "6ac21988",
   "metadata": {
    "_cell_guid": "434d0759-66a4-4c79-a40a-11ff0fde56e5",
    "_uuid": "d430a237-2fb1-45f4-afa1-7c8e32e5f733",
    "collapsed": false,
    "execution": {
     "iopub.execute_input": "2025-04-11T13:32:58.846918Z",
     "iopub.status.busy": "2025-04-11T13:32:58.846640Z",
     "iopub.status.idle": "2025-04-11T13:32:58.851194Z",
     "shell.execute_reply": "2025-04-11T13:32:58.850375Z"
    },
    "jupyter": {
     "outputs_hidden": false
    },
    "papermill": {
     "duration": 0.022174,
     "end_time": "2025-04-11T13:32:58.852528",
     "exception": false,
     "start_time": "2025-04-11T13:32:58.830354",
     "status": "completed"
    },
    "tags": []
   },
   "outputs": [
    {
     "data": {
      "text/plain": [
       "(528338, 17)"
      ]
     },
     "execution_count": 36,
     "metadata": {},
     "output_type": "execute_result"
    }
   ],
   "source": [
    "data.shape"
   ]
  },
  {
   "cell_type": "code",
   "execution_count": 37,
   "id": "2b1d9e1d",
   "metadata": {
    "_cell_guid": "abb2d6a3-cd66-4109-b045-316cc7fd33fd",
    "_uuid": "27da6917-8ef5-4523-99aa-22c8a0d02afc",
    "collapsed": false,
    "execution": {
     "iopub.execute_input": "2025-04-11T13:32:58.884008Z",
     "iopub.status.busy": "2025-04-11T13:32:58.883707Z",
     "iopub.status.idle": "2025-04-11T13:32:58.920101Z",
     "shell.execute_reply": "2025-04-11T13:32:58.919111Z"
    },
    "jupyter": {
     "outputs_hidden": false
    },
    "papermill": {
     "duration": 0.053749,
     "end_time": "2025-04-11T13:32:58.921505",
     "exception": false,
     "start_time": "2025-04-11T13:32:58.867756",
     "status": "completed"
    },
    "tags": []
   },
   "outputs": [
    {
     "name": "stdout",
     "output_type": "stream",
     "text": [
      "bed_bath_balance      1.635632\n",
      "average_size_room     0.084546\n",
      "bed_bath_ratio       -0.789056\n",
      "efficient_land_use   -0.052433\n",
      "price_per_sqft       -0.206091\n",
      "price_per_bedroom     0.097644\n",
      "dtype: float64\n"
     ]
    }
   ],
   "source": [
    "print(data[['bed_bath_balance', 'average_size_room', 'bed_bath_ratio',\n",
    "            'efficient_land_use', 'price_per_sqft', 'price_per_bedroom']].skew())"
   ]
  },
  {
   "cell_type": "code",
   "execution_count": 38,
   "id": "50bc1848",
   "metadata": {
    "_cell_guid": "4001b128-0868-4f7a-b8fb-f6defe491000",
    "_uuid": "82c1490a-6f08-48af-b79e-1f3d1cbe7091",
    "collapsed": false,
    "execution": {
     "iopub.execute_input": "2025-04-11T13:32:58.955243Z",
     "iopub.status.busy": "2025-04-11T13:32:58.954954Z",
     "iopub.status.idle": "2025-04-11T13:32:58.967228Z",
     "shell.execute_reply": "2025-04-11T13:32:58.966369Z"
    },
    "jupyter": {
     "outputs_hidden": false
    },
    "papermill": {
     "duration": 0.029946,
     "end_time": "2025-04-11T13:32:58.968666",
     "exception": false,
     "start_time": "2025-04-11T13:32:58.938720",
     "status": "completed"
    },
    "tags": []
   },
   "outputs": [
    {
     "name": "stdout",
     "output_type": "stream",
     "text": [
      "0.6946987753691801\n"
     ]
    }
   ],
   "source": [
    "data['bed_bath_balance_log'] = np.log1p(data['bed_bath_balance'])\n",
    "print(data['bed_bath_balance_log'].skew())"
   ]
  },
  {
   "cell_type": "code",
   "execution_count": 39,
   "id": "c177182d",
   "metadata": {
    "_cell_guid": "84599387-a15a-471b-a801-a924b4aff3e1",
    "_uuid": "7d6be158-e22e-4f2d-8248-6f91f79ac8d2",
    "collapsed": false,
    "execution": {
     "iopub.execute_input": "2025-04-11T13:32:59.001151Z",
     "iopub.status.busy": "2025-04-11T13:32:59.000889Z",
     "iopub.status.idle": "2025-04-11T13:32:59.037408Z",
     "shell.execute_reply": "2025-04-11T13:32:59.036312Z"
    },
    "jupyter": {
     "outputs_hidden": false
    },
    "papermill": {
     "duration": 0.05439,
     "end_time": "2025-04-11T13:32:59.039148",
     "exception": false,
     "start_time": "2025-04-11T13:32:58.984758",
     "status": "completed"
    },
    "tags": []
   },
   "outputs": [
    {
     "name": "stdout",
     "output_type": "stream",
     "text": [
      "bed_bath_balance_log    0.694699\n",
      "average_size_room       0.084546\n",
      "bed_bath_ratio         -0.789056\n",
      "efficient_land_use     -0.052433\n",
      "price_per_sqft         -0.206091\n",
      "price_per_bedroom       0.097644\n",
      "dtype: float64\n"
     ]
    }
   ],
   "source": [
    "print(data[['bed_bath_balance_log', 'average_size_room', 'bed_bath_ratio',\n",
    "            'efficient_land_use', 'price_per_sqft', 'price_per_bedroom']].skew())"
   ]
  },
  {
   "cell_type": "code",
   "execution_count": 40,
   "id": "aa74f880",
   "metadata": {
    "_cell_guid": "3e41d5a9-cdd1-4af7-9a2e-8d7f7cdff241",
    "_uuid": "dba8f443-4659-40de-b79c-651c9cd9ae27",
    "collapsed": false,
    "execution": {
     "iopub.execute_input": "2025-04-11T13:32:59.070962Z",
     "iopub.status.busy": "2025-04-11T13:32:59.070699Z",
     "iopub.status.idle": "2025-04-11T13:32:59.091916Z",
     "shell.execute_reply": "2025-04-11T13:32:59.091271Z"
    },
    "jupyter": {
     "outputs_hidden": false
    },
    "papermill": {
     "duration": 0.038347,
     "end_time": "2025-04-11T13:32:59.093247",
     "exception": false,
     "start_time": "2025-04-11T13:32:59.054900",
     "status": "completed"
    },
    "tags": []
   },
   "outputs": [],
   "source": [
    "data.drop(columns=['bed_bath_balance'],axis=1,inplace=True)"
   ]
  },
  {
   "cell_type": "code",
   "execution_count": 41,
   "id": "2a99886a",
   "metadata": {
    "_cell_guid": "3a0e6839-2f1b-4967-a4bc-bce90046b03a",
    "_uuid": "fbd803de-0da3-425c-af6e-15c93bb5ba2c",
    "collapsed": false,
    "execution": {
     "iopub.execute_input": "2025-04-11T13:32:59.124879Z",
     "iopub.status.busy": "2025-04-11T13:32:59.124648Z",
     "iopub.status.idle": "2025-04-11T13:32:59.214725Z",
     "shell.execute_reply": "2025-04-11T13:32:59.213861Z"
    },
    "jupyter": {
     "outputs_hidden": false
    },
    "papermill": {
     "duration": 0.107336,
     "end_time": "2025-04-11T13:32:59.216171",
     "exception": false,
     "start_time": "2025-04-11T13:32:59.108835",
     "status": "completed"
    },
    "tags": []
   },
   "outputs": [
    {
     "data": {
      "text/html": [
       "<div>\n",
       "<style scoped>\n",
       "    .dataframe tbody tr th:only-of-type {\n",
       "        vertical-align: middle;\n",
       "    }\n",
       "\n",
       "    .dataframe tbody tr th {\n",
       "        vertical-align: top;\n",
       "    }\n",
       "\n",
       "    .dataframe thead th {\n",
       "        text-align: right;\n",
       "    }\n",
       "</style>\n",
       "<table border=\"1\" class=\"dataframe\">\n",
       "  <thead>\n",
       "    <tr style=\"text-align: right;\">\n",
       "      <th></th>\n",
       "      <th>brokered_by</th>\n",
       "      <th>status</th>\n",
       "      <th>street</th>\n",
       "      <th>city</th>\n",
       "      <th>state</th>\n",
       "      <th>zip_code</th>\n",
       "      <th>bed_log</th>\n",
       "      <th>bath_log</th>\n",
       "      <th>house_size_log</th>\n",
       "      <th>acre_lot_cbrt</th>\n",
       "      <th>price_sqrt</th>\n",
       "      <th>price_per_sqft</th>\n",
       "      <th>price_per_bedroom</th>\n",
       "      <th>average_size_room</th>\n",
       "      <th>bed_bath_ratio</th>\n",
       "      <th>efficient_land_use</th>\n",
       "      <th>bed_bath_balance_log</th>\n",
       "    </tr>\n",
       "  </thead>\n",
       "  <tbody>\n",
       "    <tr>\n",
       "      <th>17</th>\n",
       "      <td>13338</td>\n",
       "      <td>0</td>\n",
       "      <td>1868721.0</td>\n",
       "      <td>14306</td>\n",
       "      <td>41</td>\n",
       "      <td>-1.810386</td>\n",
       "      <td>-0.063772</td>\n",
       "      <td>-0.230391</td>\n",
       "      <td>-0.303228</td>\n",
       "      <td>-1.093096</td>\n",
       "      <td>-0.996061</td>\n",
       "      <td>1.167726</td>\n",
       "      <td>0.901713</td>\n",
       "      <td>0.537935</td>\n",
       "      <td>0.68345</td>\n",
       "      <td>0.136510</td>\n",
       "      <td>0.283918</td>\n",
       "    </tr>\n",
       "    <tr>\n",
       "      <th>35</th>\n",
       "      <td>39092</td>\n",
       "      <td>0</td>\n",
       "      <td>1902855.0</td>\n",
       "      <td>11563</td>\n",
       "      <td>41</td>\n",
       "      <td>-1.812233</td>\n",
       "      <td>-0.063772</td>\n",
       "      <td>-0.230391</td>\n",
       "      <td>0.463613</td>\n",
       "      <td>2.218097</td>\n",
       "      <td>0.119460</td>\n",
       "      <td>0.126512</td>\n",
       "      <td>-0.285468</td>\n",
       "      <td>-0.850110</td>\n",
       "      <td>0.68345</td>\n",
       "      <td>0.065714</td>\n",
       "      <td>0.283918</td>\n",
       "    </tr>\n",
       "    <tr>\n",
       "      <th>49</th>\n",
       "      <td>57581</td>\n",
       "      <td>0</td>\n",
       "      <td>1902736.0</td>\n",
       "      <td>115</td>\n",
       "      <td>41</td>\n",
       "      <td>-1.814862</td>\n",
       "      <td>-0.063772</td>\n",
       "      <td>-0.230391</td>\n",
       "      <td>-0.557926</td>\n",
       "      <td>-0.682689</td>\n",
       "      <td>-0.140902</td>\n",
       "      <td>0.124749</td>\n",
       "      <td>-0.008381</td>\n",
       "      <td>0.998958</td>\n",
       "      <td>0.68345</td>\n",
       "      <td>0.695353</td>\n",
       "      <td>0.283918</td>\n",
       "    </tr>\n",
       "    <tr>\n",
       "      <th>55</th>\n",
       "      <td>98288</td>\n",
       "      <td>0</td>\n",
       "      <td>1868699.0</td>\n",
       "      <td>115</td>\n",
       "      <td>41</td>\n",
       "      <td>-1.814862</td>\n",
       "      <td>-0.063772</td>\n",
       "      <td>-0.230391</td>\n",
       "      <td>-0.984808</td>\n",
       "      <td>-1.093096</td>\n",
       "      <td>-0.063763</td>\n",
       "      <td>0.060154</td>\n",
       "      <td>-0.090476</td>\n",
       "      <td>1.771649</td>\n",
       "      <td>0.68345</td>\n",
       "      <td>0.781985</td>\n",
       "      <td>0.283918</td>\n",
       "    </tr>\n",
       "    <tr>\n",
       "      <th>59</th>\n",
       "      <td>50154</td>\n",
       "      <td>0</td>\n",
       "      <td>1234597.0</td>\n",
       "      <td>115</td>\n",
       "      <td>41</td>\n",
       "      <td>-1.814862</td>\n",
       "      <td>-0.063772</td>\n",
       "      <td>-0.230391</td>\n",
       "      <td>0.796586</td>\n",
       "      <td>1.766462</td>\n",
       "      <td>-1.665449</td>\n",
       "      <td>-0.681234</td>\n",
       "      <td>1.614102</td>\n",
       "      <td>-1.452817</td>\n",
       "      <td>0.68345</td>\n",
       "      <td>0.316164</td>\n",
       "      <td>0.283918</td>\n",
       "    </tr>\n",
       "  </tbody>\n",
       "</table>\n",
       "</div>"
      ],
      "text/plain": [
       "    brokered_by  status     street   city  state  zip_code   bed_log  \\\n",
       "17        13338       0  1868721.0  14306     41 -1.810386 -0.063772   \n",
       "35        39092       0  1902855.0  11563     41 -1.812233 -0.063772   \n",
       "49        57581       0  1902736.0    115     41 -1.814862 -0.063772   \n",
       "55        98288       0  1868699.0    115     41 -1.814862 -0.063772   \n",
       "59        50154       0  1234597.0    115     41 -1.814862 -0.063772   \n",
       "\n",
       "    bath_log  house_size_log  acre_lot_cbrt  price_sqrt  price_per_sqft  \\\n",
       "17 -0.230391       -0.303228      -1.093096   -0.996061        1.167726   \n",
       "35 -0.230391        0.463613       2.218097    0.119460        0.126512   \n",
       "49 -0.230391       -0.557926      -0.682689   -0.140902        0.124749   \n",
       "55 -0.230391       -0.984808      -1.093096   -0.063763        0.060154   \n",
       "59 -0.230391        0.796586       1.766462   -1.665449       -0.681234   \n",
       "\n",
       "    price_per_bedroom  average_size_room  bed_bath_ratio  efficient_land_use  \\\n",
       "17           0.901713           0.537935         0.68345            0.136510   \n",
       "35          -0.285468          -0.850110         0.68345            0.065714   \n",
       "49          -0.008381           0.998958         0.68345            0.695353   \n",
       "55          -0.090476           1.771649         0.68345            0.781985   \n",
       "59           1.614102          -1.452817         0.68345            0.316164   \n",
       "\n",
       "    bed_bath_balance_log  \n",
       "17              0.283918  \n",
       "35              0.283918  \n",
       "49              0.283918  \n",
       "55              0.283918  \n",
       "59              0.283918  "
      ]
     },
     "execution_count": 41,
     "metadata": {},
     "output_type": "execute_result"
    }
   ],
   "source": [
    "from sklearn.preprocessing import StandardScaler\n",
    "columns_to_scale = ['bed_bath_balance_log','average_size_room','bed_bath_ratio',\n",
    "            'efficient_land_use','price_per_sqft','price_per_bedroom']\n",
    "\n",
    "# Initialize the StandardScaler\n",
    "scaler = StandardScaler()\n",
    "\n",
    "# Apply StandardScaler to the selected columns\n",
    "data[columns_to_scale] = scaler.fit_transform(data[columns_to_scale])\n",
    "\n",
    "# Display the scaled DataFrame\n",
    "data.head()"
   ]
  },
  {
   "cell_type": "code",
   "execution_count": 42,
   "id": "73aaa737",
   "metadata": {
    "_cell_guid": "ac131be1-5b7b-4a29-8cc7-684d9dbe37ff",
    "_uuid": "f43b5ad5-3009-4ec8-af49-7c3cb01d8041",
    "collapsed": false,
    "execution": {
     "iopub.execute_input": "2025-04-11T13:32:59.248960Z",
     "iopub.status.busy": "2025-04-11T13:32:59.248671Z",
     "iopub.status.idle": "2025-04-11T13:33:00.521652Z",
     "shell.execute_reply": "2025-04-11T13:33:00.520799Z"
    },
    "jupyter": {
     "outputs_hidden": false
    },
    "papermill": {
     "duration": 1.29319,
     "end_time": "2025-04-11T13:33:00.525581",
     "exception": false,
     "start_time": "2025-04-11T13:32:59.232391",
     "status": "completed"
    },
    "tags": []
   },
   "outputs": [
    {
     "data": {
      "image/png": "[encoded data removed]",
      "text/plain": [
       "<Figure size 1200x800 with 2 Axes>"
      ]
     },
     "metadata": {},
     "output_type": "display_data"
    }
   ],
   "source": [
    "corr_matrix=data.corr()\n",
    "\n",
    "#plotting heatmap\n",
    "plt.figure(figsize=(12,8))\n",
    "sns.heatmap(corr_matrix,annot=True,cmap=\"coolwarm\",fmt='.2f',linewidth=0.5)\n",
    "plt.title('Correlation Heatmap with engineered features')\n",
    "plt.show()"
   ]
  },
  {
   "cell_type": "code",
   "execution_count": 43,
   "id": "7dd53ddd",
   "metadata": {
    "_cell_guid": "e717e30e-3f5d-4f4d-92d7-2e2afd6d360a",
    "_uuid": "25ff942a-7a59-45e5-a041-6dfccf464eec",
    "collapsed": false,
    "execution": {
     "iopub.execute_input": "2025-04-11T13:33:00.570687Z",
     "iopub.status.busy": "2025-04-11T13:33:00.570374Z",
     "iopub.status.idle": "2025-04-11T13:33:00.585723Z",
     "shell.execute_reply": "2025-04-11T13:33:00.584994Z"
    },
    "jupyter": {
     "outputs_hidden": false
    },
    "papermill": {
     "duration": 0.038871,
     "end_time": "2025-04-11T13:33:00.586945",
     "exception": false,
     "start_time": "2025-04-11T13:33:00.548074",
     "status": "completed"
    },
    "tags": []
   },
   "outputs": [
    {
     "data": {
      "text/html": [
       "<div>\n",
       "<style scoped>\n",
       "    .dataframe tbody tr th:only-of-type {\n",
       "        vertical-align: middle;\n",
       "    }\n",
       "\n",
       "    .dataframe tbody tr th {\n",
       "        vertical-align: top;\n",
       "    }\n",
       "\n",
       "    .dataframe thead th {\n",
       "        text-align: right;\n",
       "    }\n",
       "</style>\n",
       "<table border=\"1\" class=\"dataframe\">\n",
       "  <thead>\n",
       "    <tr style=\"text-align: right;\">\n",
       "      <th></th>\n",
       "      <th>brokered_by</th>\n",
       "      <th>status</th>\n",
       "      <th>street</th>\n",
       "      <th>city</th>\n",
       "      <th>state</th>\n",
       "      <th>zip_code</th>\n",
       "      <th>bed_log</th>\n",
       "      <th>bath_log</th>\n",
       "      <th>house_size_log</th>\n",
       "      <th>acre_lot_cbrt</th>\n",
       "      <th>price_sqrt</th>\n",
       "      <th>price_per_sqft</th>\n",
       "      <th>price_per_bedroom</th>\n",
       "      <th>average_size_room</th>\n",
       "      <th>bed_bath_ratio</th>\n",
       "      <th>efficient_land_use</th>\n",
       "      <th>bed_bath_balance_log</th>\n",
       "    </tr>\n",
       "  </thead>\n",
       "  <tbody>\n",
       "    <tr>\n",
       "      <th>17</th>\n",
       "      <td>13338</td>\n",
       "      <td>0</td>\n",
       "      <td>1868721.0</td>\n",
       "      <td>14306</td>\n",
       "      <td>41</td>\n",
       "      <td>-1.810386</td>\n",
       "      <td>-0.063772</td>\n",
       "      <td>-0.230391</td>\n",
       "      <td>-0.303228</td>\n",
       "      <td>-1.093096</td>\n",
       "      <td>-0.996061</td>\n",
       "      <td>1.167726</td>\n",
       "      <td>0.901713</td>\n",
       "      <td>0.537935</td>\n",
       "      <td>0.68345</td>\n",
       "      <td>0.136510</td>\n",
       "      <td>0.283918</td>\n",
       "    </tr>\n",
       "    <tr>\n",
       "      <th>35</th>\n",
       "      <td>39092</td>\n",
       "      <td>0</td>\n",
       "      <td>1902855.0</td>\n",
       "      <td>11563</td>\n",
       "      <td>41</td>\n",
       "      <td>-1.812233</td>\n",
       "      <td>-0.063772</td>\n",
       "      <td>-0.230391</td>\n",
       "      <td>0.463613</td>\n",
       "      <td>2.218097</td>\n",
       "      <td>0.119460</td>\n",
       "      <td>0.126512</td>\n",
       "      <td>-0.285468</td>\n",
       "      <td>-0.850110</td>\n",
       "      <td>0.68345</td>\n",
       "      <td>0.065714</td>\n",
       "      <td>0.283918</td>\n",
       "    </tr>\n",
       "    <tr>\n",
       "      <th>49</th>\n",
       "      <td>57581</td>\n",
       "      <td>0</td>\n",
       "      <td>1902736.0</td>\n",
       "      <td>115</td>\n",
       "      <td>41</td>\n",
       "      <td>-1.814862</td>\n",
       "      <td>-0.063772</td>\n",
       "      <td>-0.230391</td>\n",
       "      <td>-0.557926</td>\n",
       "      <td>-0.682689</td>\n",
       "      <td>-0.140902</td>\n",
       "      <td>0.124749</td>\n",
       "      <td>-0.008381</td>\n",
       "      <td>0.998958</td>\n",
       "      <td>0.68345</td>\n",
       "      <td>0.695353</td>\n",
       "      <td>0.283918</td>\n",
       "    </tr>\n",
       "    <tr>\n",
       "      <th>55</th>\n",
       "      <td>98288</td>\n",
       "      <td>0</td>\n",
       "      <td>1868699.0</td>\n",
       "      <td>115</td>\n",
       "      <td>41</td>\n",
       "      <td>-1.814862</td>\n",
       "      <td>-0.063772</td>\n",
       "      <td>-0.230391</td>\n",
       "      <td>-0.984808</td>\n",
       "      <td>-1.093096</td>\n",
       "      <td>-0.063763</td>\n",
       "      <td>0.060154</td>\n",
       "      <td>-0.090476</td>\n",
       "      <td>1.771649</td>\n",
       "      <td>0.68345</td>\n",
       "      <td>0.781985</td>\n",
       "      <td>0.283918</td>\n",
       "    </tr>\n",
       "    <tr>\n",
       "      <th>59</th>\n",
       "      <td>50154</td>\n",
       "      <td>0</td>\n",
       "      <td>1234597.0</td>\n",
       "      <td>115</td>\n",
       "      <td>41</td>\n",
       "      <td>-1.814862</td>\n",
       "      <td>-0.063772</td>\n",
       "      <td>-0.230391</td>\n",
       "      <td>0.796586</td>\n",
       "      <td>1.766462</td>\n",
       "      <td>-1.665449</td>\n",
       "      <td>-0.681234</td>\n",
       "      <td>1.614102</td>\n",
       "      <td>-1.452817</td>\n",
       "      <td>0.68345</td>\n",
       "      <td>0.316164</td>\n",
       "      <td>0.283918</td>\n",
       "    </tr>\n",
       "  </tbody>\n",
       "</table>\n",
       "</div>"
      ],
      "text/plain": [
       "    brokered_by  status     street   city  state  zip_code   bed_log  \\\n",
       "17        13338       0  1868721.0  14306     41 -1.810386 -0.063772   \n",
       "35        39092       0  1902855.0  11563     41 -1.812233 -0.063772   \n",
       "49        57581       0  1902736.0    115     41 -1.814862 -0.063772   \n",
       "55        98288       0  1868699.0    115     41 -1.814862 -0.063772   \n",
       "59        50154       0  1234597.0    115     41 -1.814862 -0.063772   \n",
       "\n",
       "    bath_log  house_size_log  acre_lot_cbrt  price_sqrt  price_per_sqft  \\\n",
       "17 -0.230391       -0.303228      -1.093096   -0.996061        1.167726   \n",
       "35 -0.230391        0.463613       2.218097    0.119460        0.126512   \n",
       "49 -0.230391       -0.557926      -0.682689   -0.140902        0.124749   \n",
       "55 -0.230391       -0.984808      -1.093096   -0.063763        0.060154   \n",
       "59 -0.230391        0.796586       1.766462   -1.665449       -0.681234   \n",
       "\n",
       "    price_per_bedroom  average_size_room  bed_bath_ratio  efficient_land_use  \\\n",
       "17           0.901713           0.537935         0.68345            0.136510   \n",
       "35          -0.285468          -0.850110         0.68345            0.065714   \n",
       "49          -0.008381           0.998958         0.68345            0.695353   \n",
       "55          -0.090476           1.771649         0.68345            0.781985   \n",
       "59           1.614102          -1.452817         0.68345            0.316164   \n",
       "\n",
       "    bed_bath_balance_log  \n",
       "17              0.283918  \n",
       "35              0.283918  \n",
       "49              0.283918  \n",
       "55              0.283918  \n",
       "59              0.283918  "
      ]
     },
     "execution_count": 43,
     "metadata": {},
     "output_type": "execute_result"
    }
   ],
   "source": [
    "# data=data.drop(columns=['status','brokered_by'],axis=1)\n",
    "data.head()"
   ]
  },
  {
   "cell_type": "code",
   "execution_count": 44,
   "id": "93f3c714",
   "metadata": {
    "_cell_guid": "5e6706bb-bde1-4a84-971a-b3c58bcf27ca",
    "_uuid": "136acf94-0bbc-4966-8854-55e834422281",
    "collapsed": false,
    "execution": {
     "iopub.execute_input": "2025-04-11T13:33:00.632410Z",
     "iopub.status.busy": "2025-04-11T13:33:00.632121Z",
     "iopub.status.idle": "2025-04-11T13:33:00.670131Z",
     "shell.execute_reply": "2025-04-11T13:33:00.669370Z"
    },
    "jupyter": {
     "outputs_hidden": false
    },
    "papermill": {
     "duration": 0.062263,
     "end_time": "2025-04-11T13:33:00.671788",
     "exception": false,
     "start_time": "2025-04-11T13:33:00.609525",
     "status": "completed"
    },
    "tags": []
   },
   "outputs": [],
   "source": [
    "X=data.drop(columns=['price_sqrt'])\n",
    "y=data['price_sqrt']"
   ]
  },
  {
   "cell_type": "code",
   "execution_count": 45,
   "id": "be6b17da",
   "metadata": {
    "_cell_guid": "033aeb25-c4c9-4270-9c18-7359512a601b",
    "_uuid": "37b4f2d1-5c2d-414f-a426-42fc0040b7c3",
    "collapsed": false,
    "execution": {
     "iopub.execute_input": "2025-04-11T13:33:00.718658Z",
     "iopub.status.busy": "2025-04-11T13:33:00.718323Z",
     "iopub.status.idle": "2025-04-11T13:34:40.314460Z",
     "shell.execute_reply": "2025-04-11T13:34:40.313609Z"
    },
    "jupyter": {
     "outputs_hidden": false
    },
    "papermill": {
     "duration": 99.643325,
     "end_time": "2025-04-11T13:34:40.339073",
     "exception": false,
     "start_time": "2025-04-11T13:33:00.695748",
     "status": "completed"
    },
    "tags": []
   },
   "outputs": [
    {
     "name": "stdout",
     "output_type": "stream",
     "text": [
      "Feature Importances:\n",
      "price_per_bedroom       9.981132e-01\n",
      "bed_bath_ratio          8.345911e-04\n",
      "bed_log                 5.988488e-04\n",
      "bed_bath_balance_log    4.518675e-04\n",
      "house_size_log          8.203319e-07\n",
      "zip_code                2.634506e-07\n",
      "street                  1.266261e-07\n",
      "price_per_sqft          6.655966e-08\n",
      "brokered_by             6.465316e-08\n",
      "efficient_land_use      5.097279e-08\n",
      "city                    4.364230e-08\n",
      "acre_lot_cbrt           4.061433e-08\n",
      "state                   3.033261e-08\n",
      "average_size_room       2.230072e-08\n",
      "status                  1.992425e-09\n",
      "bath_log                8.389895e-10\n",
      "dtype: float64\n"
     ]
    }
   ],
   "source": [
    "from sklearn.ensemble import RandomForestRegressor\n",
    "import pandas as pd\n",
    "\n",
    "# Train a Random Forest model\n",
    "rf_model = RandomForestRegressor(n_estimators=50, n_jobs=-1,max_depth=20,random_state=42)\n",
    "rf_model.fit(X, y)\n",
    "\n",
    "# Get feature importances\n",
    "feature_importances = pd.Series(rf_model.feature_importances_, index=X.columns)\n",
    "print(\"Feature Importances:\")\n",
    "print(feature_importances.sort_values(ascending=False))\n",
    "\n",
    "# Set a threshold and drop features below it\n",
    "importance_threshold = 0.01  # Adjust as needed\n",
    "selected_features = feature_importances[feature_importances > importance_threshold].index\n",
    "X_selected = X[selected_features]"
   ]
  },
  {
   "cell_type": "code",
   "execution_count": 46,
   "id": "15063c88",
   "metadata": {
    "_cell_guid": "391c2d56-99ab-4bf4-9be4-d51a1b7ae982",
    "_uuid": "fb3da932-e85f-4d8d-8fcf-361592844bf8",
    "collapsed": false,
    "execution": {
     "iopub.execute_input": "2025-04-11T13:34:40.384743Z",
     "iopub.status.busy": "2025-04-11T13:34:40.384408Z",
     "iopub.status.idle": "2025-04-11T13:34:40.388125Z",
     "shell.execute_reply": "2025-04-11T13:34:40.387212Z"
    },
    "jupyter": {
     "outputs_hidden": false
    },
    "papermill": {
     "duration": 0.02841,
     "end_time": "2025-04-11T13:34:40.389578",
     "exception": false,
     "start_time": "2025-04-11T13:34:40.361168",
     "status": "completed"
    },
    "tags": []
   },
   "outputs": [],
   "source": [
    "vif_data=data"
   ]
  },
  {
   "cell_type": "code",
   "execution_count": 47,
   "id": "eb94c5d0",
   "metadata": {
    "_cell_guid": "f9eafd23-b2d6-4a63-8a99-10a7487846dd",
    "_uuid": "b36cfc14-aa46-4c9e-a3c5-6dc075a8ab65",
    "collapsed": false,
    "execution": {
     "iopub.execute_input": "2025-04-11T13:34:40.434763Z",
     "iopub.status.busy": "2025-04-11T13:34:40.434513Z",
     "iopub.status.idle": "2025-04-11T13:34:41.190360Z",
     "shell.execute_reply": "2025-04-11T13:34:41.188323Z"
    },
    "jupyter": {
     "outputs_hidden": false
    },
    "papermill": {
     "duration": 0.780025,
     "end_time": "2025-04-11T13:34:41.192478",
     "exception": false,
     "start_time": "2025-04-11T13:34:40.412453",
     "status": "completed"
    },
    "tags": []
   },
   "outputs": [
    {
     "name": "stdout",
     "output_type": "stream",
     "text": [
      "Important Features Based on Threshold:\n",
      "Index(['bed_log', 'price_per_bedroom', 'bed_bath_ratio',\n",
      "       'bed_bath_balance_log'],\n",
      "      dtype='object')\n",
      "\n",
      "VIF After Dropping Low-Importance Features:\n",
      "                Feature       VIF\n",
      "0               bed_log  1.008086\n",
      "1     price_per_bedroom  1.063375\n",
      "2        bed_bath_ratio  1.437814\n",
      "3  bed_bath_balance_log  1.478152\n"
     ]
    }
   ],
   "source": [
    "# Assuming `rf_model` is your trained Random Forest model\n",
    "import pandas as pd\n",
    "\n",
    "# Get feature importances from the trained model\n",
    "feature_importance = pd.Series(rf_model.feature_importances_, index=X.columns)\n",
    "\n",
    "# Define a threshold for feature importance\n",
    "importance_threshold = 0.0001\n",
    "\n",
    "# Retain only important features\n",
    "important_features = feature_importance[feature_importance > importance_threshold].index\n",
    "X_reduced = X[important_features]\n",
    "\n",
    "# Display important features\n",
    "print(\"Important Features Based on Threshold:\")\n",
    "print(important_features)\n",
    "\n",
    "# Recalculate VIF for remaining features\n",
    "from statsmodels.stats.outliers_influence import variance_inflation_factor\n",
    "\n",
    "vif = pd.DataFrame()\n",
    "vif[\"Feature\"] = X_reduced.columns\n",
    "vif[\"VIF\"] = [variance_inflation_factor(X_reduced.values, i) for i in range(X_reduced.shape[1])]\n",
    "\n",
    "print(\"\\nVIF After Dropping Low-Importance Features:\")\n",
    "print(vif)"
   ]
  },
  {
   "cell_type": "markdown",
   "id": "da998a82",
   "metadata": {
    "_cell_guid": "0633ad18-3423-44ed-86a5-bb36538c1b84",
    "_uuid": "c60a9ff4-b671-44b4-800a-0ae407818909",
    "collapsed": false,
    "jupyter": {
     "outputs_hidden": false
    },
    "papermill": {
     "duration": 0.060475,
     "end_time": "2025-04-11T13:34:41.315134",
     "exception": false,
     "start_time": "2025-04-11T13:34:41.254659",
     "status": "completed"
    },
    "tags": []
   },
   "source": [
    "# VIF (Variance Inflation Factor) measures the multicollinearity of features in a dataset.\n",
    "# It calculates how much the variance of a regression coefficient is inflated due to multicollinearity.\n",
    "# A high VIF value (generally > 5 or 10) indicates a high correlation between a feature and others, \n",
    "# meaning the feature might not provide unique information to the model.\n",
    "\n",
    "# Steps to calculate VIF:\n",
    "# 1. For each feature, regress it against all other features.\n",
    "# 2. Calculate the R² (coefficient of determination) for this regression.\n",
    "# 3. Compute VIF using the formula: VIF = 1 / (1 - R²)\n",
    "#    - If R² is close to 1, VIF will be very large, indicating multicollinearity.\n",
    "#    - Lower VIF values indicate less multicollinearity.\n",
    "\n",
    "# VIF Thresholds:\n",
    "# - VIF < 5: Low multicollinearity, the feature is generally fine.\n",
    "# - VIF 5-10: Moderate multicollinearity, consider dropping or transforming the feature.\n",
    "# - VIF > 10: High multicollinearity, the feature is likely problematic and should be addressed.\n",
    "\n",
    "# In this dataset, we calculate VIF for all features to identify multicollinearity issues.\n",
    "# Features with low VIF values are retained, while features with high VIF may be dropped or transformed."
   ]
  },
  {
   "cell_type": "code",
   "execution_count": 48,
   "id": "b78cb489",
   "metadata": {
    "_cell_guid": "0848c29c-f757-454e-be99-8e75c9438bac",
    "_uuid": "ca40c08c-17f6-479e-992d-79ea0393367e",
    "collapsed": false,
    "execution": {
     "iopub.execute_input": "2025-04-11T13:34:41.361633Z",
     "iopub.status.busy": "2025-04-11T13:34:41.361271Z",
     "iopub.status.idle": "2025-04-11T13:34:41.374571Z",
     "shell.execute_reply": "2025-04-11T13:34:41.373931Z"
    },
    "jupyter": {
     "outputs_hidden": false
    },
    "papermill": {
     "duration": 0.037328,
     "end_time": "2025-04-11T13:34:41.375952",
     "exception": false,
     "start_time": "2025-04-11T13:34:41.338624",
     "status": "completed"
    },
    "tags": []
   },
   "outputs": [],
   "source": [
    "# Final feature set\n",
    "X_boosting = X[['city','state','bed_log', 'price_per_bedroom', 'bed_bath_ratio', 'bed_bath_balance_log']]"
   ]
  },
  {
   "cell_type": "code",
   "execution_count": 49,
   "id": "22f33887",
   "metadata": {
    "_cell_guid": "cb32ad63-d4b9-45ad-83e0-74fa8315ce8b",
    "_uuid": "48ee8001-5fd1-4d7b-b34f-f29ac382a461",
    "collapsed": false,
    "execution": {
     "iopub.execute_input": "2025-04-11T13:34:41.420222Z",
     "iopub.status.busy": "2025-04-11T13:34:41.419997Z",
     "iopub.status.idle": "2025-04-11T13:34:41.493831Z",
     "shell.execute_reply": "2025-04-11T13:34:41.493037Z"
    },
    "jupyter": {
     "outputs_hidden": false
    },
    "papermill": {
     "duration": 0.097247,
     "end_time": "2025-04-11T13:34:41.495442",
     "exception": false,
     "start_time": "2025-04-11T13:34:41.398195",
     "status": "completed"
    },
    "tags": []
   },
   "outputs": [],
   "source": [
    "from sklearn.model_selection import train_test_split\n",
    "\n",
    "X_train, X_test, y_train, y_test = train_test_split(X_boosting, y, test_size=0.2, random_state=42)"
   ]
  },
  {
   "cell_type": "code",
   "execution_count": 50,
   "id": "8fcd80f5",
   "metadata": {
    "_cell_guid": "116ffb81-a1f1-4377-a1f9-0ca20dff0244",
    "_uuid": "ec714d7b-a27a-4d02-9c07-b7cd83f9f65a",
    "collapsed": false,
    "execution": {
     "iopub.execute_input": "2025-04-11T13:34:41.540986Z",
     "iopub.status.busy": "2025-04-11T13:34:41.540711Z",
     "iopub.status.idle": "2025-04-11T13:34:43.391076Z",
     "shell.execute_reply": "2025-04-11T13:34:43.389749Z"
    },
    "jupyter": {
     "outputs_hidden": false
    },
    "papermill": {
     "duration": 1.874837,
     "end_time": "2025-04-11T13:34:43.392863",
     "exception": false,
     "start_time": "2025-04-11T13:34:41.518026",
     "status": "completed"
    },
    "tags": []
   },
   "outputs": [
    {
     "name": "stdout",
     "output_type": "stream",
     "text": [
      "MSE: 7.890685419193122e-05\n",
      "R2 Score: 0.9999112774854102\n"
     ]
    }
   ],
   "source": [
    "from xgboost import XGBRegressor\n",
    "from sklearn.metrics import mean_squared_error, r2_score\n",
    "\n",
    "# Initialize XGBoost model\n",
    "xgb_model = XGBRegressor(\n",
    "    n_estimators=100,\n",
    "    learning_rate=0.1,\n",
    "    max_depth=6,\n",
    "    random_state=42\n",
    ")\n",
    "\n",
    "# Train\n",
    "xgb_model.fit(X_train, y_train)\n",
    "\n",
    "# Predict\n",
    "y_pred = xgb_model.predict(X_test)\n",
    "\n",
    "# Evaluate\n",
    "print(\"MSE:\", mean_squared_error(y_test, y_pred))\n",
    "print(\"R2 Score:\", r2_score(y_test, y_pred))"
   ]
  },
  {
   "cell_type": "code",
   "execution_count": 51,
   "id": "8951757f",
   "metadata": {
    "_cell_guid": "67b98626-cc06-4aa7-904d-c378c73177ad",
    "_uuid": "e13d5a46-fea9-4606-87ff-8c6713b8646d",
    "collapsed": false,
    "execution": {
     "iopub.execute_input": "2025-04-11T13:34:43.443191Z",
     "iopub.status.busy": "2025-04-11T13:34:43.442888Z",
     "iopub.status.idle": "2025-04-11T13:43:37.357130Z",
     "shell.execute_reply": "2025-04-11T13:43:37.356334Z"
    },
    "jupyter": {
     "outputs_hidden": false
    },
    "papermill": {
     "duration": 533.963485,
     "end_time": "2025-04-11T13:43:37.382389",
     "exception": false,
     "start_time": "2025-04-11T13:34:43.418904",
     "status": "completed"
    },
    "tags": []
   },
   "outputs": [
    {
     "name": "stdout",
     "output_type": "stream",
     "text": [
      "Fitting 5 folds for each of 54 candidates, totalling 270 fits\n",
      "Best Parameters: {'learning_rate': 0.1, 'max_depth': 7, 'n_estimators': 200, 'subsample': 1.0}\n",
      "Best R2 Score: 0.9999217374347952\n"
     ]
    }
   ],
   "source": [
    "from sklearn.model_selection import GridSearchCV\n",
    "\n",
    "param_grid = {\n",
    "    'n_estimators': [100, 200, 300],\n",
    "    'learning_rate': [0.01, 0.05, 0.1],\n",
    "    'max_depth': [3, 5, 7],\n",
    "    'subsample': [0.8, 1.0],\n",
    "}\n",
    "\n",
    "grid_search = GridSearchCV(\n",
    "    estimator=XGBRegressor(random_state=42),\n",
    "    param_grid=param_grid,\n",
    "    scoring='r2',\n",
    "    cv=5,\n",
    "    verbose=1\n",
    ")\n",
    "\n",
    "grid_search.fit(X_train, y_train)\n",
    "print(\"Best Parameters:\", grid_search.best_params_)\n",
    "print(\"Best R2 Score:\", grid_search.best_score_)"
   ]
  },
  {
   "cell_type": "code",
   "execution_count": 52,
   "id": "fec77f5e",
   "metadata": {
    "_cell_guid": "b0e5d880-23fb-41f7-90c1-6d37213ba903",
    "_uuid": "3d05e70e-b7c8-4d00-9a75-17b2d698ddba",
    "collapsed": false,
    "execution": {
     "iopub.execute_input": "2025-04-11T13:43:37.428404Z",
     "iopub.status.busy": "2025-04-11T13:43:37.428105Z",
     "iopub.status.idle": "2025-04-11T13:43:37.668594Z",
     "shell.execute_reply": "2025-04-11T13:43:37.667662Z"
    },
    "jupyter": {
     "outputs_hidden": false
    },
    "papermill": {
     "duration": 0.264969,
     "end_time": "2025-04-11T13:43:37.670119",
     "exception": false,
     "start_time": "2025-04-11T13:43:37.405150",
     "status": "completed"
    },
    "tags": []
   },
   "outputs": [
    {
     "data": {
      "image/png": "[encoded data removed]",
      "text/plain": [
       "<Figure size 640x480 with 1 Axes>"
      ]
     },
     "metadata": {},
     "output_type": "display_data"
    }
   ],
   "source": [
    "import matplotlib.pyplot as plt\n",
    "from xgboost import plot_importance\n",
    "\n",
    "# Use the best model from GridSearchCV\n",
    "best_model = grid_search.best_estimator_\n",
    "\n",
    "# Plot feature importance\n",
    "plot_importance(best_model, max_num_features=10)  # Top 10 features\n",
    "plt.title(\"Feature Importance\")\n",
    "plt.show()"
   ]
  },
  {
   "cell_type": "code",
   "execution_count": 53,
   "id": "e3a1ccb6",
   "metadata": {
    "_cell_guid": "ab27a97f-ec13-4613-b67c-0340fe2ab6fb",
    "_uuid": "82910099-b3ba-42d2-ad31-8f7225a6c94a",
    "collapsed": false,
    "execution": {
     "iopub.execute_input": "2025-04-11T13:43:37.768776Z",
     "iopub.status.busy": "2025-04-11T13:43:37.768417Z",
     "iopub.status.idle": "2025-04-11T13:43:37.986992Z",
     "shell.execute_reply": "2025-04-11T13:43:37.986107Z"
    },
    "jupyter": {
     "outputs_hidden": false
    },
    "papermill": {
     "duration": 0.244933,
     "end_time": "2025-04-11T13:43:37.988457",
     "exception": false,
     "start_time": "2025-04-11T13:43:37.743524",
     "status": "completed"
    },
    "tags": []
   },
   "outputs": [
    {
     "data": {
      "image/png": "[encoded data removed]",
      "text/plain": [
       "<Figure size 640x480 with 1 Axes>"
      ]
     },
     "metadata": {},
     "output_type": "display_data"
    },
    {
     "name": "stdout",
     "output_type": "stream",
     "text": [
      "Feature Importance Ranking:\n",
      "price_per_bedroom: 0.9462407231330872\n",
      "bed_log: 0.05335328355431557\n",
      "bed_bath_ratio: 0.00037340589915402234\n",
      "city: 1.1597544471442234e-05\n",
      "bed_bath_balance_log: 1.1180732144566718e-05\n",
      "state: 9.841613973549102e-06\n"
     ]
    }
   ],
   "source": [
    "import matplotlib.pyplot as plt\n",
    "import numpy as np\n",
    "\n",
    "# Feature importance\n",
    "xgb_importance = best_model.feature_importances_\n",
    "\n",
    "# Plot importance\n",
    "plt.barh(X_boosting.columns, xgb_importance)\n",
    "plt.title(\"Feature Importance (XGBoost)\")\n",
    "plt.xlabel(\"Importance\")\n",
    "plt.ylabel(\"Features\")\n",
    "plt.show()\n",
    "\n",
    "# Display sorted feature importance\n",
    "sorted_importance = sorted(zip(X_boosting.columns, xgb_importance), key=lambda x: x[1], reverse=True)\n",
    "print(\"Feature Importance Ranking:\")\n",
    "for feature, importance in sorted_importance:\n",
    "    print(f\"{feature}: {importance}\")"
   ]
  },
  {
   "cell_type": "code",
   "execution_count": 54,
   "id": "0579d80c",
   "metadata": {
    "_cell_guid": "2485c9c3-dbd8-4313-a40f-15afaebaef28",
    "_uuid": "10559dfd-a9f9-4658-80c3-a90e3a53c7d4",
    "collapsed": false,
    "execution": {
     "iopub.execute_input": "2025-04-11T13:43:38.037528Z",
     "iopub.status.busy": "2025-04-11T13:43:38.037217Z",
     "iopub.status.idle": "2025-04-11T13:43:50.053535Z",
     "shell.execute_reply": "2025-04-11T13:43:50.052825Z"
    },
    "jupyter": {
     "outputs_hidden": false
    },
    "papermill": {
     "duration": 12.042274,
     "end_time": "2025-04-11T13:43:50.055342",
     "exception": false,
     "start_time": "2025-04-11T13:43:38.013068",
     "status": "completed"
    },
    "tags": []
   },
   "outputs": [
    {
     "name": "stdout",
     "output_type": "stream",
     "text": [
      "Cross-Validation R² Scores: [0.99990127 0.9998752  0.99990744 0.99992791 0.99986116]\n",
      "Mean R² Score: 0.9998945951819053\n"
     ]
    }
   ],
   "source": [
    "from sklearn.model_selection import cross_val_score\n",
    "\n",
    "# Cross-validation\n",
    "cv_scores = cross_val_score(best_model, X_boosting, y, cv=5, scoring='r2')\n",
    "\n",
    "print(\"Cross-Validation R² Scores:\", cv_scores)\n",
    "print(\"Mean R² Score:\", np.mean(cv_scores))"
   ]
  },
  {
   "cell_type": "code",
   "execution_count": 55,
   "id": "9c4e57a9",
   "metadata": {
    "_cell_guid": "27bd708f-c01c-4191-9172-44b188f772b9",
    "_uuid": "9e744f17-4c5a-410e-9dc4-b7b61c03b2fa",
    "collapsed": false,
    "execution": {
     "iopub.execute_input": "2025-04-11T13:43:50.106726Z",
     "iopub.status.busy": "2025-04-11T13:43:50.106406Z",
     "iopub.status.idle": "2025-04-11T13:43:52.906785Z",
     "shell.execute_reply": "2025-04-11T13:43:52.905876Z"
    },
    "jupyter": {
     "outputs_hidden": false
    },
    "papermill": {
     "duration": 2.826186,
     "end_time": "2025-04-11T13:43:52.908418",
     "exception": false,
     "start_time": "2025-04-11T13:43:50.082232",
     "status": "completed"
    },
    "tags": []
   },
   "outputs": [
    {
     "name": "stdout",
     "output_type": "stream",
     "text": [
      "Model saved to xgb_final_model.json\n",
      "Test Mean Squared Error: 7.364418397692187e-05\n",
      "Test R2 Score: 0.9999171948083058\n",
      "Predictions from loaded model are equal to previous predictions: True\n"
     ]
    }
   ],
   "source": [
    "import xgboost as xgb\n",
    "from xgboost import XGBRegressor\n",
    "from sklearn.metrics import mean_squared_error, r2_score\n",
    "\n",
    "# Define the best hyperparameters based on previous tuning\n",
    "best_params = {\n",
    "    'learning_rate': 0.1,\n",
    "    'max_depth': 5,\n",
    "    'n_estimators': 300,\n",
    "    'subsample': 1.0\n",
    "}\n",
    "\n",
    "# Retrain the model using the best hyperparameters\n",
    "final_model = XGBRegressor(**best_params)\n",
    "final_model.fit(X_train, y_train)\n",
    "\n",
    "# Save the model using Booster's save_model method\n",
    "final_model.get_booster().save_model('xgb_final_model.json')\n",
    "print(\"Model saved to xgb_final_model.json\")\n",
    "\n",
    "# Predict on the test set using the trained model\n",
    "y_pred = final_model.predict(X_test)\n",
    "\n",
    "# Evaluate performance\n",
    "mse = mean_squared_error(y_test, y_pred)\n",
    "r2 = r2_score(y_test, y_pred)\n",
    "\n",
    "print(f\"Test Mean Squared Error: {mse}\")\n",
    "print(f\"Test R2 Score: {r2}\")\n",
    "\n",
    "# Load the model using Booster's load_model method\n",
    "loaded_model = XGBRegressor()\n",
    "loaded_model.load_model('xgb_final_model.json')\n",
    "\n",
    "# Predict again to verify consistency\n",
    "y_pred_loaded = loaded_model.predict(X_test)\n",
    "\n",
    "# Check if predictions are identical\n",
    "print(f\"Predictions from loaded model are equal to previous predictions: {all(y_pred == y_pred_loaded)}\")"
   ]
  },
  {
   "cell_type": "code",
   "execution_count": 56,
   "id": "1b9281a5",
   "metadata": {
    "_cell_guid": "a93073c4-b3b6-4f9a-bf3d-6a945c65ba08",
    "_uuid": "02862479-0572-4a6d-8d6b-add3220bd580",
    "collapsed": false,
    "execution": {
     "iopub.execute_input": "2025-04-11T13:43:52.959046Z",
     "iopub.status.busy": "2025-04-11T13:43:52.958759Z",
     "iopub.status.idle": "2025-04-11T13:43:52.973185Z",
     "shell.execute_reply": "2025-04-11T13:43:52.972345Z"
    },
    "jupyter": {
     "outputs_hidden": false
    },
    "papermill": {
     "duration": 0.040037,
     "end_time": "2025-04-11T13:43:52.974416",
     "exception": false,
     "start_time": "2025-04-11T13:43:52.934379",
     "status": "completed"
    },
    "tags": []
   },
   "outputs": [
    {
     "data": {
      "text/html": [
       "<div>\n",
       "<style scoped>\n",
       "    .dataframe tbody tr th:only-of-type {\n",
       "        vertical-align: middle;\n",
       "    }\n",
       "\n",
       "    .dataframe tbody tr th {\n",
       "        vertical-align: top;\n",
       "    }\n",
       "\n",
       "    .dataframe thead th {\n",
       "        text-align: right;\n",
       "    }\n",
       "</style>\n",
       "<table border=\"1\" class=\"dataframe\">\n",
       "  <thead>\n",
       "    <tr style=\"text-align: right;\">\n",
       "      <th></th>\n",
       "      <th>brokered_by</th>\n",
       "      <th>status</th>\n",
       "      <th>street</th>\n",
       "      <th>city</th>\n",
       "      <th>state</th>\n",
       "      <th>zip_code</th>\n",
       "      <th>bed_log</th>\n",
       "      <th>bath_log</th>\n",
       "      <th>house_size_log</th>\n",
       "      <th>acre_lot_cbrt</th>\n",
       "      <th>price_sqrt</th>\n",
       "      <th>price_per_sqft</th>\n",
       "      <th>price_per_bedroom</th>\n",
       "      <th>average_size_room</th>\n",
       "      <th>bed_bath_ratio</th>\n",
       "      <th>efficient_land_use</th>\n",
       "      <th>bed_bath_balance_log</th>\n",
       "    </tr>\n",
       "  </thead>\n",
       "  <tbody>\n",
       "    <tr>\n",
       "      <th>17</th>\n",
       "      <td>13338</td>\n",
       "      <td>0</td>\n",
       "      <td>1868721.0</td>\n",
       "      <td>14306</td>\n",
       "      <td>41</td>\n",
       "      <td>-1.810386</td>\n",
       "      <td>-0.063772</td>\n",
       "      <td>-0.230391</td>\n",
       "      <td>-0.303228</td>\n",
       "      <td>-1.093096</td>\n",
       "      <td>-0.996061</td>\n",
       "      <td>1.167726</td>\n",
       "      <td>0.901713</td>\n",
       "      <td>0.537935</td>\n",
       "      <td>0.68345</td>\n",
       "      <td>0.136510</td>\n",
       "      <td>0.283918</td>\n",
       "    </tr>\n",
       "    <tr>\n",
       "      <th>35</th>\n",
       "      <td>39092</td>\n",
       "      <td>0</td>\n",
       "      <td>1902855.0</td>\n",
       "      <td>11563</td>\n",
       "      <td>41</td>\n",
       "      <td>-1.812233</td>\n",
       "      <td>-0.063772</td>\n",
       "      <td>-0.230391</td>\n",
       "      <td>0.463613</td>\n",
       "      <td>2.218097</td>\n",
       "      <td>0.119460</td>\n",
       "      <td>0.126512</td>\n",
       "      <td>-0.285468</td>\n",
       "      <td>-0.850110</td>\n",
       "      <td>0.68345</td>\n",
       "      <td>0.065714</td>\n",
       "      <td>0.283918</td>\n",
       "    </tr>\n",
       "    <tr>\n",
       "      <th>49</th>\n",
       "      <td>57581</td>\n",
       "      <td>0</td>\n",
       "      <td>1902736.0</td>\n",
       "      <td>115</td>\n",
       "      <td>41</td>\n",
       "      <td>-1.814862</td>\n",
       "      <td>-0.063772</td>\n",
       "      <td>-0.230391</td>\n",
       "      <td>-0.557926</td>\n",
       "      <td>-0.682689</td>\n",
       "      <td>-0.140902</td>\n",
       "      <td>0.124749</td>\n",
       "      <td>-0.008381</td>\n",
       "      <td>0.998958</td>\n",
       "      <td>0.68345</td>\n",
       "      <td>0.695353</td>\n",
       "      <td>0.283918</td>\n",
       "    </tr>\n",
       "    <tr>\n",
       "      <th>55</th>\n",
       "      <td>98288</td>\n",
       "      <td>0</td>\n",
       "      <td>1868699.0</td>\n",
       "      <td>115</td>\n",
       "      <td>41</td>\n",
       "      <td>-1.814862</td>\n",
       "      <td>-0.063772</td>\n",
       "      <td>-0.230391</td>\n",
       "      <td>-0.984808</td>\n",
       "      <td>-1.093096</td>\n",
       "      <td>-0.063763</td>\n",
       "      <td>0.060154</td>\n",
       "      <td>-0.090476</td>\n",
       "      <td>1.771649</td>\n",
       "      <td>0.68345</td>\n",
       "      <td>0.781985</td>\n",
       "      <td>0.283918</td>\n",
       "    </tr>\n",
       "    <tr>\n",
       "      <th>59</th>\n",
       "      <td>50154</td>\n",
       "      <td>0</td>\n",
       "      <td>1234597.0</td>\n",
       "      <td>115</td>\n",
       "      <td>41</td>\n",
       "      <td>-1.814862</td>\n",
       "      <td>-0.063772</td>\n",
       "      <td>-0.230391</td>\n",
       "      <td>0.796586</td>\n",
       "      <td>1.766462</td>\n",
       "      <td>-1.665449</td>\n",
       "      <td>-0.681234</td>\n",
       "      <td>1.614102</td>\n",
       "      <td>-1.452817</td>\n",
       "      <td>0.68345</td>\n",
       "      <td>0.316164</td>\n",
       "      <td>0.283918</td>\n",
       "    </tr>\n",
       "  </tbody>\n",
       "</table>\n",
       "</div>"
      ],
      "text/plain": [
       "    brokered_by  status     street   city  state  zip_code   bed_log  \\\n",
       "17        13338       0  1868721.0  14306     41 -1.810386 -0.063772   \n",
       "35        39092       0  1902855.0  11563     41 -1.812233 -0.063772   \n",
       "49        57581       0  1902736.0    115     41 -1.814862 -0.063772   \n",
       "55        98288       0  1868699.0    115     41 -1.814862 -0.063772   \n",
       "59        50154       0  1234597.0    115     41 -1.814862 -0.063772   \n",
       "\n",
       "    bath_log  house_size_log  acre_lot_cbrt  price_sqrt  price_per_sqft  \\\n",
       "17 -0.230391       -0.303228      -1.093096   -0.996061        1.167726   \n",
       "35 -0.230391        0.463613       2.218097    0.119460        0.126512   \n",
       "49 -0.230391       -0.557926      -0.682689   -0.140902        0.124749   \n",
       "55 -0.230391       -0.984808      -1.093096   -0.063763        0.060154   \n",
       "59 -0.230391        0.796586       1.766462   -1.665449       -0.681234   \n",
       "\n",
       "    price_per_bedroom  average_size_room  bed_bath_ratio  efficient_land_use  \\\n",
       "17           0.901713           0.537935         0.68345            0.136510   \n",
       "35          -0.285468          -0.850110         0.68345            0.065714   \n",
       "49          -0.008381           0.998958         0.68345            0.695353   \n",
       "55          -0.090476           1.771649         0.68345            0.781985   \n",
       "59           1.614102          -1.452817         0.68345            0.316164   \n",
       "\n",
       "    bed_bath_balance_log  \n",
       "17              0.283918  \n",
       "35              0.283918  \n",
       "49              0.283918  \n",
       "55              0.283918  \n",
       "59              0.283918  "
      ]
     },
     "execution_count": 56,
     "metadata": {},
     "output_type": "execute_result"
    }
   ],
   "source": [
    "data.head()"
   ]
  },
  {
   "cell_type": "code",
   "execution_count": 57,
   "id": "e5f6cca8",
   "metadata": {
    "_cell_guid": "1e545464-935e-49f8-a3db-48482695163b",
    "_uuid": "6b8453a5-45bc-4e82-bc33-2221e76e8688",
    "collapsed": false,
    "execution": {
     "iopub.execute_input": "2025-04-11T13:43:53.024329Z",
     "iopub.status.busy": "2025-04-11T13:43:53.023995Z",
     "iopub.status.idle": "2025-04-11T13:43:53.032762Z",
     "shell.execute_reply": "2025-04-11T13:43:53.032001Z"
    },
    "jupyter": {
     "outputs_hidden": false
    },
    "papermill": {
     "duration": 0.034874,
     "end_time": "2025-04-11T13:43:53.033990",
     "exception": false,
     "start_time": "2025-04-11T13:43:52.999116",
     "status": "completed"
    },
    "tags": []
   },
   "outputs": [
    {
     "data": {
      "text/plain": [
       "-0.027902399889904998"
      ]
     },
     "execution_count": 57,
     "metadata": {},
     "output_type": "execute_result"
    }
   ],
   "source": [
    "data['city'].skew()"
   ]
  },
  {
   "cell_type": "code",
   "execution_count": 58,
   "id": "2d07071f",
   "metadata": {
    "_cell_guid": "b5ed8088-8fe0-4769-a371-bb109296f86a",
    "_uuid": "924156bb-b03c-412a-ac7a-395f50e6f82c",
    "collapsed": false,
    "execution": {
     "iopub.execute_input": "2025-04-11T13:43:53.084150Z",
     "iopub.status.busy": "2025-04-11T13:43:53.083856Z",
     "iopub.status.idle": "2025-04-11T13:43:53.097952Z",
     "shell.execute_reply": "2025-04-11T13:43:53.097141Z"
    },
    "jupyter": {
     "outputs_hidden": false
    },
    "papermill": {
     "duration": 0.039975,
     "end_time": "2025-04-11T13:43:53.099168",
     "exception": false,
     "start_time": "2025-04-11T13:43:53.059193",
     "status": "completed"
    },
    "tags": []
   },
   "outputs": [
    {
     "name": "stdout",
     "output_type": "stream",
     "text": [
      "Type of city encoder: <class 'dict'>\n",
      "Type of state encoder: <class 'dict'>\n"
     ]
    }
   ],
   "source": [
    "import joblib\n",
    "\n",
    "# Load encoders\n",
    "city_encoder = joblib.load(\"/kaggle/working/encoders/city_encoder.pkl\")\n",
    "state_encoder = joblib.load(\"/kaggle/working/encoders/state_encoder.pkl\")\n",
    "\n",
    "# Check their types\n",
    "print(\"Type of city encoder:\", type(city_encoder))\n",
    "print(\"Type of state encoder:\", type(state_encoder))"
   ]
  },
  {
   "cell_type": "code",
   "execution_count": 59,
   "id": "574c4614",
   "metadata": {
    "_cell_guid": "c4e8f156-ec29-48fd-960b-57601535afec",
    "_uuid": "78f9a1bc-d985-407b-9001-160caa7a1b11",
    "collapsed": false,
    "execution": {
     "iopub.execute_input": "2025-04-11T13:43:53.148815Z",
     "iopub.status.busy": "2025-04-11T13:43:53.148494Z",
     "iopub.status.idle": "2025-04-11T13:43:53.160266Z",
     "shell.execute_reply": "2025-04-11T13:43:53.159509Z"
    },
    "jupyter": {
     "outputs_hidden": false
    },
    "papermill": {
     "duration": 0.037544,
     "end_time": "2025-04-11T13:43:53.161614",
     "exception": false,
     "start_time": "2025-04-11T13:43:53.124070",
     "status": "completed"
    },
    "tags": []
   },
   "outputs": [
    {
     "name": "stdout",
     "output_type": "stream",
     "text": [
      "Fixed encoders saved successfully!\n"
     ]
    }
   ],
   "source": [
    "import joblib\n",
    "from sklearn.preprocessing import LabelEncoder\n",
    "\n",
    "# Load the incorrect encoders (which are dictionaries)\n",
    "city_dict = joblib.load(\"/kaggle/working/encoders/city_encoder.pkl\")\n",
    "state_dict = joblib.load(\"/kaggle/working/encoders/state_encoder.pkl\")\n",
    "\n",
    "# Convert dictionary to LabelEncoder\n",
    "city_encoder = LabelEncoder()\n",
    "state_encoder = LabelEncoder()\n",
    "\n",
    "# Fit the encoders with the original mapping\n",
    "city_encoder.classes_ = list(city_dict.keys())  # Restore labels\n",
    "state_encoder.classes_ = list(state_dict.keys())\n",
    "\n",
    "# Save the fixed encoders\n",
    "joblib.dump(city_encoder, \"/kaggle/working/encoders/city_encoder_fixed.pkl\")\n",
    "joblib.dump(state_encoder, \"/kaggle/working/encoders/state_encoder_fixed.pkl\")\n",
    "\n",
    "print(\"Fixed encoders saved successfully!\")"
   ]
  },
  {
   "cell_type": "code",
   "execution_count": null,
   "id": "a6d4eba4",
   "metadata": {
    "_cell_guid": "1c4c663e-6d37-491d-b33a-137dc94241ff",
    "_uuid": "529e9a82-16f7-41cd-a6d4-71a020473142",
    "collapsed": false,
    "jupyter": {
     "outputs_hidden": false
    },
    "papermill": {
     "duration": 0.023726,
     "end_time": "2025-04-11T13:43:53.210465",
     "exception": false,
     "start_time": "2025-04-11T13:43:53.186739",
     "status": "completed"
    },
    "tags": []
   },
   "outputs": [],
   "source": []
  },
  {
   "cell_type": "markdown",
   "id": "1cb6b815",
   "metadata": {
    "_cell_guid": "13a747dc-ec61-4f60-a2be-afa27a0f5f4c",
    "_uuid": "0d9790c1-5490-488f-be3f-d47fd187a8c1",
    "collapsed": false,
    "jupyter": {
     "outputs_hidden": false
    },
    "papermill": {
     "duration": 0.023501,
     "end_time": "2025-04-11T13:43:53.257920",
     "exception": false,
     "start_time": "2025-04-11T13:43:53.234419",
     "status": "completed"
    },
    "tags": []
   },
   "source": [
    "### **Why We Had to Fix the Encoders?**  \n",
    "\n",
    "#### **Problem: Encoders Were Saved as Dictionaries Instead of LabelEncoders**\n",
    "- When loading `city_encoder.pkl` and `state_encoder.pkl`, they were found to be of type `<class 'dict'>` instead of `LabelEncoder`.  \n",
    "- This caused the error:  \n",
    "  ```python\n",
    "  AttributeError: 'dict' object has no attribute 'transform'\n",
    "  ```\n",
    "  because dictionaries **don’t have a `.transform()` method**.\n",
    "\n",
    "---\n",
    "\n",
    "#### **Why Did This Happen?**\n",
    "- When saving the encoders, they were likely stored as **dictionaries mapping labels to encoded values** instead of saving the **LabelEncoder object** itself.\n",
    "- For example, the saved file may have looked like this:\n",
    "  ```python\n",
    "  {\"New York\": 0, \"Los Angeles\": 1, \"Chicago\": 2}\n",
    "  ```\n",
    "  instead of being a `LabelEncoder` instance with `.transform()` and `.inverse_transform()` methods.\n",
    "\n",
    "---\n",
    "\n",
    "#### **Solution: Convert Dictionary to LabelEncoder**\n",
    "Since XGBoost expects numerical inputs, we needed to **convert these dictionaries back into LabelEncoder objects** before using them in the Flask app.\n",
    "\n",
    "**How We Fixed It:**\n",
    "1. Loaded the dictionary-based encoders.\n",
    "2. Created new `LabelEncoder` objects.\n",
    "3. Restored the original class labels using `classes_ = list(dictionary.keys())`.\n",
    "4. Saved the corrected encoders for use in Flask.\n",
    "\n",
    "---\n",
    "\n",
    "### **Key Takeaways**\n",
    "- **Always save the entire LabelEncoder object** using `joblib.dump(encoder, \"file.pkl\")`, not just the dictionary mapping.\n",
    "- **Check the type of the loaded object** before using it (`type(encoders[\"city\"])`).\n",
    "- **Use `encoder.transform()` instead of manually looking up values in a dictionary.**\n",
    "  \n",
    "Now, the fixed encoders can be used in the Flask app without issues. 🚀"
   ]
  },
  {
   "cell_type": "code",
   "execution_count": null,
   "id": "b028a530",
   "metadata": {
    "_cell_guid": "afbc2d28-9d43-41a7-b246-75dd1aa2e4c6",
    "_uuid": "2b8e8d56-5a3d-4da6-b971-948fe6c1f166",
    "collapsed": false,
    "jupyter": {
     "outputs_hidden": false
    },
    "papermill": {
     "duration": 0.023517,
     "end_time": "2025-04-11T13:43:53.305210",
     "exception": false,
     "start_time": "2025-04-11T13:43:53.281693",
     "status": "completed"
    },
    "tags": []
   },
   "outputs": [],
   "source": []
  },
  {
   "cell_type": "code",
   "execution_count": 60,
   "id": "84bb9d08",
   "metadata": {
    "_cell_guid": "dc2df6d8-9a5d-4336-9884-74c52d565462",
    "_uuid": "1508a689-ef61-4916-9249-dac8a3bd5a16",
    "collapsed": false,
    "execution": {
     "iopub.execute_input": "2025-04-11T13:43:53.353065Z",
     "iopub.status.busy": "2025-04-11T13:43:53.352728Z",
     "iopub.status.idle": "2025-04-11T13:43:53.403272Z",
     "shell.execute_reply": "2025-04-11T13:43:53.402397Z"
    },
    "jupyter": {
     "outputs_hidden": false
    },
    "papermill": {
     "duration": 0.076198,
     "end_time": "2025-04-11T13:43:53.404745",
     "exception": false,
     "start_time": "2025-04-11T13:43:53.328547",
     "status": "completed"
    },
    "tags": []
   },
   "outputs": [
    {
     "name": "stdout",
     "output_type": "stream",
     "text": [
      "✅ Model loaded successfully!\n",
      "City Encoder Type: <class 'sklearn.preprocessing._label.LabelEncoder'>\n",
      "State Encoder Type: <class 'sklearn.preprocessing._label.LabelEncoder'>\n",
      "✅ Encoders loaded successfully!\n",
      "🔹 Raw Input Data: {'city': 'New York', 'state': 'NY', 'bedrooms': 3, 'bathrooms': 2, 'price': 6000}\n",
      "❌ Error in prediction: ❌ Error in transform_input: 'list' object has no attribute 'dtype'\n"
     ]
    }
   ],
   "source": [
    "import xgboost as xgb\n",
    "import numpy as np\n",
    "import joblib\n",
    "import os\n",
    "\n",
    "# ✅ Correct Paths\n",
    "MODEL_PATH = \"/kaggle/working/xgb_final_model.json\"\n",
    "ENCODER_CITY_PATH = \"/kaggle/working/encoders/city_encoder_fixed.pkl\"\n",
    "ENCODER_STATE_PATH = \"/kaggle/working/encoders/state_encoder_fixed.pkl\"\n",
    "\n",
    "# 🔹 Load Model\n",
    "if os.path.exists(MODEL_PATH):\n",
    "    booster = xgb.Booster()\n",
    "    booster.load_model(MODEL_PATH)\n",
    "    print(\"✅ Model loaded successfully!\")\n",
    "else:\n",
    "    raise FileNotFoundError(f\"❌ Model file not found at {MODEL_PATH}\")\n",
    "\n",
    "# 🔹 Load Encoders\n",
    "if os.path.exists(ENCODER_CITY_PATH) and os.path.exists(ENCODER_STATE_PATH):\n",
    "    city_encoder = joblib.load(ENCODER_CITY_PATH)\n",
    "    state_encoder = joblib.load(ENCODER_STATE_PATH)\n",
    "    \n",
    "    # ✅ Print type to ensure encoders are correctly loaded\n",
    "    print(f\"City Encoder Type: {type(city_encoder)}\")  \n",
    "    print(f\"State Encoder Type: {type(state_encoder)}\")\n",
    "    \n",
    "    if not hasattr(city_encoder, \"transform\") or not hasattr(state_encoder, \"transform\"):\n",
    "        raise ValueError(\"❌ Encoders are not valid LabelEncoder objects!\")\n",
    "\n",
    "    encoders = {\"city\": city_encoder, \"state\": state_encoder}\n",
    "    print(\"✅ Encoders loaded successfully!\")\n",
    "else:\n",
    "    raise FileNotFoundError(\"❌ Encoder files not found!\")\n",
    "\n",
    "# 🔹 Function to Transform Input Data with Debugging\n",
    "def transform_input(data, encoders):\n",
    "    \"\"\"\n",
    "    Converts user input into a properly formatted NumPy array.\n",
    "    \"\"\"\n",
    "    try:\n",
    "        print(f\"🔹 Raw Input Data: {data}\")  # Debugging step\n",
    "\n",
    "        # Encode city and state\n",
    "        city = encoders[\"city\"].transform([data[\"city\"]])[0]  # Get the first element of the encoded array\n",
    "        state = encoders[\"state\"].transform([data[\"state\"]])[0]  # Get the first element of the encoded array\n",
    "\n",
    "        print(f\"🔹 Encoded City: {city}, Encoded State: {state}\")\n",
    "\n",
    "        # Calculate derived features\n",
    "        bed_log = np.log1p(float(data[\"bedrooms\"]))\n",
    "        price_per_bedroom = float(data[\"price\"]) / float(data[\"bedrooms\"])\n",
    "        bed_bath_ratio = float(data[\"bedrooms\"]) / float(data[\"bathrooms\"])\n",
    "        bed_bath_balance_log = np.log1p(float(data[\"bedrooms\"]) - float(data[\"bathrooms\"]))\n",
    "\n",
    "        print(f\"🔹 Features Before Conversion: {city, state, bed_log, price_per_bedroom, bed_bath_ratio, bed_bath_balance_log}\")\n",
    "\n",
    "        # Convert to NumPy array and reshape\n",
    "        features = np.array([city, state, bed_log, price_per_bedroom, bed_bath_ratio, bed_bath_balance_log], dtype=np.float32).reshape(1, -1)\n",
    "\n",
    "        print(f\"🔹 Final Input Features (NumPy Array Shape: {features.shape}):\\n\", features)  # Should be (1, 6)\n",
    "        return features\n",
    "\n",
    "    except Exception as e:\n",
    "        raise ValueError(f\"❌ Error in transform_input: {str(e)}\")\n",
    "\n",
    "# 🔹 Example Input Data\n",
    "sample_input_data = {\n",
    "    \"city\": \"New York\",\n",
    "    \"state\": \"NY\",\n",
    "    \"bedrooms\": 3,\n",
    "    \"bathrooms\": 2,\n",
    "    \"price\": 6000\n",
    "}\n",
    "\n",
    "# 🔹 Transform Input for Model\n",
    "try:\n",
    "    input_features = transform_input(sample_input_data, encoders)  # ✅ Returns a NumPy array\n",
    "    print(f\"🔹 Final Input Features for Model: {input_features}\")\n",
    "\n",
    "    # ✅ Explicitly Convert Again to Ensure It's a NumPy Array\n",
    "    input_features = np.array(input_features, dtype=np.float32).reshape(1, -1)\n",
    "    print(f\"🔹 Confirming Input Type Before DMatrix: {type(input_features)}, Shape: {input_features.shape}\")\n",
    "\n",
    "    dmatrix = xgb.DMatrix(input_features)  # ✅ Correct Input Type for XGBoost\n",
    "\n",
    "    # 🔹 Make Prediction\n",
    "    prediction = booster.predict(dmatrix)\n",
    "\n",
    "    print(f\"✅ Predicted Value: {round(float(prediction[0]), 2)}\")  # Fixed the parenthesis here\n",
    "\n",
    "except Exception as e:\n",
    "    print(f\"❌ Error in prediction: {str(e)}\")"
   ]
  }
 ],
 "metadata": {
  "kaggle": {
   "accelerator": "gpu",
   "dataSources": [
    {
     "datasetId": 3202774,
     "sourceId": 7981839,
     "sourceType": "datasetVersion"
    }
   ],
   "dockerImageVersionId": 30822,
   "isGpuEnabled": true,
   "isInternetEnabled": true,
   "language": "python",
   "sourceType": "notebook"
  },
  "kernelspec": {
   "display_name": "Python 3",
   "language": "python",
   "name": "python3"
  },
  "language_info": {
   "codemirror_mode": {
    "name": "ipython",
    "version": 3
   },
   "file_extension": ".py",
   "mimetype": "text/x-python",
   "name": "python",
   "nbconvert_exporter": "python",
   "pygments_lexer": "ipython3",
   "version": "3.10.12"
  },
  "papermill": {
   "default_parameters": {},
   "duration": 715.624849,
   "end_time": "2025-04-11T13:43:54.348891",
   "environment_variables": {},
   "exception": null,
   "input_path": "__notebook__.ipynb",
   "output_path": "__notebook__.ipynb",
   "parameters": {},
   "start_time": "2025-04-11T13:31:58.724042",
   "version": "2.6.0"
  }
 },
 "nbformat": 4,
 "nbformat_minor": 5
}
